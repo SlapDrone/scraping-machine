{
 "cells": [
  {
   "cell_type": "code",
   "execution_count": 1,
   "id": "f3dbed0d",
   "metadata": {},
   "outputs": [],
   "source": [
    "import re\n",
    "import json\n",
    "from pathlib import Path\n",
    "\n",
    "import numpy as np\n",
    "import pandas as pd\n",
    "import torch\n",
    "import plotly.express as px\n",
    "import matplotlib.pyplot as plt\n",
    "from sklearn.metrics import confusion_matrix, ConfusionMatrixDisplay\n",
    "from datasets import Dataset\n",
    "from transformers import pipeline\n",
    "\n",
    "device = \"cuda:0\" if torch.cuda.is_available() else \"cpu\"\n",
    "%matplotlib inline"
   ]
  },
  {
   "cell_type": "markdown",
   "id": "0d4c6527",
   "metadata": {},
   "source": [
    "# Load ICLR ground truth"
   ]
  },
  {
   "cell_type": "code",
   "execution_count": 2,
   "id": "0a28c179",
   "metadata": {},
   "outputs": [],
   "source": [
    "data_dir = Path(\"../data\")\n",
    "df_iclr = pd.read_excel(data_dir / \"ICLR2022.xlsx\")"
   ]
  },
  {
   "cell_type": "markdown",
   "id": "5cbc5f6b",
   "metadata": {},
   "source": [
    "Look at previously defined labels for each column:"
   ]
  },
  {
   "cell_type": "code",
   "execution_count": 3,
   "id": "2027a25a",
   "metadata": {},
   "outputs": [
    {
     "data": {
      "text/plain": [
       "array(['Model Extraction', 'Poisoning', 'Data Extraction', 'Robustness',\n",
       "       'Evasion'], dtype=object)"
      ]
     },
     "execution_count": 3,
     "metadata": {},
     "output_type": "execute_result"
    }
   ],
   "source": [
    "df_iclr[\"Threat\"].unique()"
   ]
  },
  {
   "cell_type": "code",
   "execution_count": 4,
   "id": "4367e8b0",
   "metadata": {},
   "outputs": [
    {
     "data": {
      "text/plain": [
       "array(['Defense', 'Attacks', 'Bias', 'Robustness measures',\n",
       "       'Attacks/Defense'], dtype=object)"
      ]
     },
     "execution_count": 4,
     "metadata": {},
     "output_type": "execute_result"
    }
   ],
   "source": [
    "df_iclr[\"Context\"].unique()"
   ]
  },
  {
   "cell_type": "code",
   "execution_count": 5,
   "id": "9af08692",
   "metadata": {},
   "outputs": [
    {
     "data": {
      "text/html": [
       "<div>\n",
       "<style scoped>\n",
       "    .dataframe tbody tr th:only-of-type {\n",
       "        vertical-align: middle;\n",
       "    }\n",
       "\n",
       "    .dataframe tbody tr th {\n",
       "        vertical-align: top;\n",
       "    }\n",
       "\n",
       "    .dataframe thead th {\n",
       "        text-align: right;\n",
       "    }\n",
       "</style>\n",
       "<table border=\"1\" class=\"dataframe\">\n",
       "  <thead>\n",
       "    <tr style=\"text-align: right;\">\n",
       "      <th></th>\n",
       "      <th>Technique</th>\n",
       "    </tr>\n",
       "    <tr>\n",
       "      <th>Threat</th>\n",
       "      <th></th>\n",
       "    </tr>\n",
       "  </thead>\n",
       "  <tbody>\n",
       "    <tr>\n",
       "      <th>Data Extraction</th>\n",
       "      <td>Differential Privacy Learning</td>\n",
       "    </tr>\n",
       "    <tr>\n",
       "      <th>Data Extraction</th>\n",
       "      <td>Data Encryption/Data learnability locking</td>\n",
       "    </tr>\n",
       "    <tr>\n",
       "      <th>Data Extraction</th>\n",
       "      <td>Gradient Leakage (federated learning)</td>\n",
       "    </tr>\n",
       "    <tr>\n",
       "      <th>Data Extraction</th>\n",
       "      <td>Property Inference Attacks/Differencial Privac...</td>\n",
       "    </tr>\n",
       "    <tr>\n",
       "      <th>Data Extraction</th>\n",
       "      <td>Defense against Membership Inference Attacks</td>\n",
       "    </tr>\n",
       "    <tr>\n",
       "      <th>Data Extraction</th>\n",
       "      <td>User privacy</td>\n",
       "    </tr>\n",
       "    <tr>\n",
       "      <th>Data Extraction</th>\n",
       "      <td>Membership Inference</td>\n",
       "    </tr>\n",
       "    <tr>\n",
       "      <th>Evasion</th>\n",
       "      <td>Adversarial Examples</td>\n",
       "    </tr>\n",
       "    <tr>\n",
       "      <th>Evasion</th>\n",
       "      <td>Robust/Adversarial Training</td>\n",
       "    </tr>\n",
       "    <tr>\n",
       "      <th>Evasion</th>\n",
       "      <td>Adversarial Examples and Robust/Adversarial Tr...</td>\n",
       "    </tr>\n",
       "    <tr>\n",
       "      <th>Evasion</th>\n",
       "      <td>Adversarial Examples Transferrability</td>\n",
       "    </tr>\n",
       "    <tr>\n",
       "      <th>Evasion</th>\n",
       "      <td>Robustness Certification</td>\n",
       "    </tr>\n",
       "    <tr>\n",
       "      <th>Evasion</th>\n",
       "      <td>Preprocessing</td>\n",
       "    </tr>\n",
       "    <tr>\n",
       "      <th>Evasion</th>\n",
       "      <td>Adversarial Examples (for explanation methods)</td>\n",
       "    </tr>\n",
       "    <tr>\n",
       "      <th>Evasion</th>\n",
       "      <td>Robust Inference</td>\n",
       "    </tr>\n",
       "    <tr>\n",
       "      <th>Model Extraction</th>\n",
       "      <td>Deterrent Control (Model Watermarking)</td>\n",
       "    </tr>\n",
       "    <tr>\n",
       "      <th>Model Extraction</th>\n",
       "      <td>Preventive Controls</td>\n",
       "    </tr>\n",
       "    <tr>\n",
       "      <th>Model Extraction</th>\n",
       "      <td>Side-channel attacks</td>\n",
       "    </tr>\n",
       "    <tr>\n",
       "      <th>Poisoning</th>\n",
       "      <td>Backdoor Pattern</td>\n",
       "    </tr>\n",
       "    <tr>\n",
       "      <th>Poisoning</th>\n",
       "      <td>Corrective approach</td>\n",
       "    </tr>\n",
       "    <tr>\n",
       "      <th>Poisoning</th>\n",
       "      <td>Robustness Certification</td>\n",
       "    </tr>\n",
       "    <tr>\n",
       "      <th>Robustness</th>\n",
       "      <td>Bias removal via relabeling</td>\n",
       "    </tr>\n",
       "    <tr>\n",
       "      <th>Robustness</th>\n",
       "      <td>Label Uncertainty</td>\n",
       "    </tr>\n",
       "    <tr>\n",
       "      <th>Robustness</th>\n",
       "      <td>Fairness guarantee</td>\n",
       "    </tr>\n",
       "    <tr>\n",
       "      <th>Robustness</th>\n",
       "      <td>Fairness</td>\n",
       "    </tr>\n",
       "  </tbody>\n",
       "</table>\n",
       "</div>"
      ],
      "text/plain": [
       "                                                          Technique\n",
       "Threat                                                             \n",
       "Data Extraction                       Differential Privacy Learning\n",
       "Data Extraction           Data Encryption/Data learnability locking\n",
       "Data Extraction               Gradient Leakage (federated learning)\n",
       "Data Extraction   Property Inference Attacks/Differencial Privac...\n",
       "Data Extraction        Defense against Membership Inference Attacks\n",
       "Data Extraction                                        User privacy\n",
       "Data Extraction                                Membership Inference\n",
       "Evasion                                        Adversarial Examples\n",
       "Evasion                                 Robust/Adversarial Training\n",
       "Evasion           Adversarial Examples and Robust/Adversarial Tr...\n",
       "Evasion                       Adversarial Examples Transferrability\n",
       "Evasion                                    Robustness Certification\n",
       "Evasion                                               Preprocessing\n",
       "Evasion              Adversarial Examples (for explanation methods)\n",
       "Evasion                                            Robust Inference\n",
       "Model Extraction             Deterrent Control (Model Watermarking)\n",
       "Model Extraction                                Preventive Controls\n",
       "Model Extraction                               Side-channel attacks\n",
       "Poisoning                                          Backdoor Pattern\n",
       "Poisoning                                       Corrective approach\n",
       "Poisoning                                  Robustness Certification\n",
       "Robustness                              Bias removal via relabeling\n",
       "Robustness                                        Label Uncertainty\n",
       "Robustness                                       Fairness guarantee\n",
       "Robustness                                                 Fairness"
      ]
     },
     "execution_count": 5,
     "metadata": {},
     "output_type": "execute_result"
    }
   ],
   "source": [
    "techniques_by_threat = df_iclr.groupby(\"Threat\")[\"Technique\"].unique().explode().to_frame()\n",
    "techniques_by_threat"
   ]
  },
  {
   "cell_type": "markdown",
   "id": "924af51a",
   "metadata": {},
   "source": [
    "# ICML analysis"
   ]
  },
  {
   "cell_type": "markdown",
   "id": "d802e6df",
   "metadata": {},
   "source": [
    "## Load ICML data (mostly unlabelled)"
   ]
  },
  {
   "cell_type": "markdown",
   "id": "4c256ac0",
   "metadata": {},
   "source": [
    "Load"
   ]
  },
  {
   "cell_type": "code",
   "execution_count": 6,
   "id": "9b2a34aa",
   "metadata": {},
   "outputs": [],
   "source": [
    "df_items = pd.read_parquet(data_dir / \"items.parquet\")\n",
    "df_authors = pd.read_parquet(data_dir / \"authors.parquet\")\n",
    "df_keywords = pd.read_parquet(data_dir / \"keywords.parquet\")\n",
    "df_author_item_relations = pd.read_parquet(data_dir / \"author_item_relations.parquet\")\n",
    "df_keyword_item_relations = pd.read_parquet(data_dir / \"keyword_item_relations.parquet\")\n",
    "\n",
    "df_items[\"conference\"] = \"ICML\"\n",
    "df_items[\"year\"] = 2022                                                                \n",
    "df_keywords[\"value\"] = df_keywords[\"value\"].str.strip()\n",
    "\n",
    "df_keywords_by_item = pd.merge(df_keywords, df_keyword_item_relations, left_on=\"id\", right_on=\"keyword_id\", how=\"inner\").drop(\"id\", axis=1)\n",
    "df_keywords_by_item = pd.merge(df_keywords_by_item, df_items[[\"id\", \"item_type\"]], left_on=\"confitem_id\", right_on=\"id\", how=\"inner\").drop(\"id\", axis=1)\n",
    "\n",
    "attack_keywords = \"adversar|poison|attack|adversarial machine learning|model theft|model extraction|data extraction|data theft|model stealing|data stealing|evasion|model ownership|watermark\"\n",
    "privacy_keywords = \"differential privacy|differentially private|federated\"\n",
    "robustness_keywords = \"robust\" \n",
    "fairness_keywords = \"trust|fair|bias\"\n",
    "\n",
    "def select_rows_containing_keywords(df: pd.DataFrame, keyword_ptn: str) -> pd.DataFrame:\n",
    "    return df[\n",
    "        df[\"title\"].str.lower().str.contains(keyword_ptn) | \n",
    "        df[\"abstract\"].str.lower().str.contains(keyword_ptn)\n",
    "    ]\n",
    "\n",
    "df_icml = select_rows_containing_keywords(df_items, \"|\".join((attack_keywords, robustness_keywords))).reset_index(drop=True)\n",
    "df_icml_abs = df_icml[~pd.isnull(df_icml[\"abstract\"])]"
   ]
  },
  {
   "cell_type": "markdown",
   "id": "d166f52f",
   "metadata": {},
   "source": [
    "sample of all robustness + adversarial to manually label"
   ]
  },
  {
   "cell_type": "code",
   "execution_count": 7,
   "id": "db7ca9b6",
   "metadata": {},
   "outputs": [],
   "source": [
    "df_manual_check = (\n",
    "    df_icml\n",
    "    .loc[~pd.isnull(df_icml.abstract), [\"id\", \"title\", \"abstract\"]]\n",
    "    .sample(50, random_state=10)\n",
    "    .reset_index(drop=True)\n",
    ")"
   ]
  },
  {
   "cell_type": "markdown",
   "id": "0f446a58",
   "metadata": {},
   "source": [
    "let's pick an adversarial only (non-robustness-related) sample of non duplicates to collect some more labels"
   ]
  },
  {
   "cell_type": "code",
   "execution_count": 8,
   "id": "61dfc2eb",
   "metadata": {},
   "outputs": [],
   "source": [
    "df_icml_adv_only = select_rows_containing_keywords(df_items, attack_keywords).reset_index(drop=True)\n",
    "df_icml_adv_only_abs = df_icml_adv_only[~pd.isnull(df_icml_adv_only[\"abstract\"])]\n",
    "df_icml_adv_sample = df_icml_adv_only_abs.sort_values(by=\"item_type\").groupby(\"title\").last().sample(25, random_state=10).reset_index()"
   ]
  },
  {
   "cell_type": "markdown",
   "id": "318d611f",
   "metadata": {},
   "source": [
    "### load manually labelled samples for testing/few-shot learning\n",
    "\n",
    "(those above, plus one or two others hand picked)"
   ]
  },
  {
   "cell_type": "code",
   "execution_count": 9,
   "id": "d95b901e",
   "metadata": {},
   "outputs": [],
   "source": [
    "df_test = pd.read_csv(\"annotated_abstracts_manual.csv\")"
   ]
  },
  {
   "cell_type": "markdown",
   "id": "5f9d4e1e",
   "metadata": {},
   "source": [
    "perhaps clarify labels here? replace evasion with adversarial attack/perturbation etc"
   ]
  },
  {
   "cell_type": "markdown",
   "id": "09a07f30",
   "metadata": {},
   "source": [
    "split up the (multi-)labels"
   ]
  },
  {
   "cell_type": "code",
   "execution_count": 10,
   "id": "c03350fe",
   "metadata": {},
   "outputs": [],
   "source": [
    "split_threats = df_test[\"threat_manual\"].str.split(\",\", expand=True); split_threats.columns = [\"threat_1\", \"threat_2\"]\n",
    "split_contexts = df_test[\"context_manual\"].str.split(\",\", expand=True); split_contexts.columns = [\"context_1\", \"context_2\"]\n",
    "df_test = df_test.join(split_threats).join(split_contexts).drop([\"threat_manual\", \"context_manual\"], axis=1)"
   ]
  },
  {
   "cell_type": "markdown",
   "id": "551a4b5b",
   "metadata": {},
   "source": [
    "Add back abstracts"
   ]
  },
  {
   "cell_type": "code",
   "execution_count": 11,
   "id": "036ed379",
   "metadata": {},
   "outputs": [],
   "source": [
    "df_test = pd.merge(df_test, df_icml, how=\"inner\", left_on=\"id\", right_on=\"id\")"
   ]
  },
  {
   "cell_type": "code",
   "execution_count": 12,
   "id": "0b35baaa",
   "metadata": {},
   "outputs": [],
   "source": [
    "threats = np.unique(df_test[[\"threat_1\", \"threat_2\"]].fillna(\"None\"))\n",
    "contexts = np.unique(df_test[[\"context_1\", \"context_2\"]].fillna(\"None\"))"
   ]
  },
  {
   "cell_type": "markdown",
   "id": "fc531fa7",
   "metadata": {},
   "source": [
    "## Zero-shot classification (ChatGPT)"
   ]
  },
  {
   "cell_type": "code",
   "execution_count": 15,
   "id": "15e25895",
   "metadata": {},
   "outputs": [],
   "source": [
    "import asyncio\n",
    "import json\n",
    "import os\n",
    "import random\n",
    "import time\n",
    "from pathlib import Path\n",
    "\n",
    "from tenacity import retry, wait_fixed, wait_random\n",
    "from revChatGPT.revChatGPT import Chatbot\n",
    "#from asyncChatGPT.asyncChatGPT import Chatbot\n",
    "\n",
    "\n",
    "@retry(wait=wait_fixed(3.) + wait_random(0, 2.))\n",
    "def get_response(prompt: str, chatbot: Chatbot) -> dict:\n",
    "    return chatbot.get_chat_response(prompt)\n",
    "\n",
    "def random_wait(min_wait=2., max_wait=4.):\n",
    "    time.sleep(min_wait + random.random() * (max_wait - min_wait))\n",
    "    \n",
    "\n",
    "#cfg_file = Path(os.getenv(\"HOME\")) / \"revChatGPT/config.json\"\n",
    "#cfg = json.load(open(cfg_file, \"r\"))"
   ]
  },
  {
   "cell_type": "code",
   "execution_count": 16,
   "id": "6a217372",
   "metadata": {},
   "outputs": [],
   "source": [
    "os.environ[\"DISPLAY\"] = \":1\""
   ]
  },
  {
   "cell_type": "code",
   "execution_count": null,
   "id": "7cbf15f2",
   "metadata": {},
   "outputs": [],
   "source": [
    "# cfg = {\n",
    "#     \"session_token\":\"eyJhbGciOiJkaXIiLCJlbmMiOiJBMjU2R0NNIn0..GveCyxZ00iAZRU3j.qYiganTm3E8rKrt2AGFreLn37y6JHBGfzYdyLSPTVgxAMRtxqjRALNaJ7T0z3YgbJIjfKOFIgy6GBIP4IDV4QdcjV8SOuhT1_WqrpkAQ8Ig9sgWB4T69Q2RnskNs-39K5s82G5PfOpgw5bg7539obG0OtcNOSexx4Ek0vs-pTo-dJo9fN1zL00WUbJrT47UkdrFCnJD01Su8S5bwXIobVBpxGxvKcAL2nlIxALBe9JL6uoSz1dA_bhroFXpN0RPlkd0FHQHkH8MhRhNULaPUrKrhp7HxLIyE95XZj7_U2ZCUJVqSX3McdLyuiClMUdBKEpuvEA-aS4rgheI40hVefBVir_7bbmReuifi67_5vBFmVyGaVxtsBwqdM-o6cFFJm4EA2rDWP6rJnm7f8KEr_ldi_biqnamxQsXtV96m1NSGIiZvk3eVm_Efely4JIg3miHVGqo2ZHBdcI5vCu1sA1NUSGg9uLh58TqBgHBm_kEGLe_OALx4PdJUdsUDDZ8xavZzIYFYQvuHinwSSVG0pJiUIcdunILja4iWXT2vuYJtN8PIwbIZLEm8x78_b0zzWQAsUyqVeuqo0uT5lSy5Czl-8pMQ-0-DRYSZB3baxf_Soz2eItiQ9ig1F_k2m8Vk53JlhnZOCo8FMTQ4fXZo4cGVqsiQmkfBegaHbKgON7NH2dVKTcyP1G8PS7Mbz6BsQ56q6RvSegThomG2rSboj4AsKnljlYcImmXzniyncKV5xiL4J4qh9YntJuSsA3lqcwL8UoPTIoTmhQ9_2mhoOKug_GQkZtN9cQnxrlnrezstUj8JKvCcFAuNxy4h6NTGXB75xJfTGm2UH5ECyhR7_imAYNnO5hCLRQY6rIGxuBp2XKLdLzBCf7OuT_z4MKyzIgq0RaFAjjYpVrmwwuoQZdPS8iuiDDpeP3p3WlBbN07Tujb6rjmzSEnuyKn3MguBevlbl-8L5Ol0IqLBqhL9DrGrZq6GtIHQkcDfMT1o2QnCpENbER7bju4K8elXDydXrTfuoNyCrwYsmNdmCFoJ6uFhMASMbyBNMqtxE4wtQw9i2_Wm3PF7gcayzfKKBKgvi7OIPgDgswVf70GFJws_UVH4vxllU4A8b5_uYnT4YtEgkNmQtJnHMVfPeMO-L183A7unNO43BK_jIZ0G13Rs3IAeKvmyGtXRugL_HWlnbz-z5_Yq_e-4p1-QMY1AMfAHfj6fmLOonxO50sAQBJBapthXlB_gdQEWTBKlyuQnWUldaM17HG7RFzU7M97mXMNAsuMlVXq5FS1hSn4UZYR8I9flubFKy0WmpP0wW2_WHHrH3b4zH9iz_3Db6HKJOgcaczPE8Lr7P2BnXgx7Da8GCJWPDznZln0IFayoFr8EKfCcc2QMh8-2XNyEVY75o4v3fG1XH_kt-z56mqU7J7BzaeF0uyqoIuBzadPZD1oymQBI7KDffvDTf-Ti0iZ0peR6vaJpFgQm814b50eMLRUX1Zb1vmJBGk-GV5aROpc4JWQtF7d2gPGunUL5k6-iqjjxGbjn_4zut3ZjfVSWBFeelYizovyXKUTJSZYHz-y6Lp8tHPjeotlwQMn222AJZg6N4oUp2pNM6r5GtYjeq1s7xDZfSqZtQRFwiEzigBUn7LI0CLnePVc-ovpfQnvScu86hxaWLUo8xAOBa7zHyIZmbU1Sq0vesZI59_U4oVRfzDC18q_V4j2iN7rxIfAsM1CuwWykA8nvOcyTotEJBZFk_tzYJXlyOM0zm4bfstDlZHKMjjPu59CixwhEOj-bhWrgnV6IbcSxZSGEMHOiLOgTQWOV8UWdrKxndk5XzijnU6XJi-KLuhOJ6xe4e06OH2I4YefD5MTRTFfd1UKZ5hagTueBOEdDRFccP1e0bi2rAmEttL0hs-2IG15gW4nB8UTFTeQIF8dQbfL14Yf40WwLzmGvow_Jw-YHhktWn0J0PlqX0PgePkJyEqbMyyEJggPi2TxcbaA_wKfOK7mVIH9Q3zCt3O4wHcyg-5eDMqFqwSPma-7vnlQglObQiTIlrYnTrq61ptlx49x3A1wShITU3cCUEMvUB67Er0iIrZaLpyQ22GYEOGikF0TrHG-c0yyVbJ1uRxhTBU7EO2H9QdOdR8OTtYrT8ZoaxDiFinXCJtICZh4sCXp1XeQoymC5zGj-dxi5vrkw-fqdy58lwZIunr44tgOsj052AQAlUC1wVTVgWjNEX2iT6pMCkhCXvLGYjZc5yS3x0mh-B5FOe9J74TKNwBtwUf-PwEMmbQbrZWCrOyRYE3FQbcSPOZ2Slq6vbnVaKHcUf1QeKlrMdeydMBCsglBpWxdnDFkmXXOK_SbRnmceXJORFXCKGFhSGHtlQXflHCVbeKfuB2k4DldjbhlTRxJIodOKj6Jpdwut2Y9c8B8wddin8nY5sCQN7PPeSItldMib7xkgYKGOOPyp5g.q9MwSue66y4RRFSkybnMzw\"\n",
    "# }\n",
    "\n",
    "# chatbot = Chatbot(cfg, conversation_id=None)"
   ]
  },
  {
   "cell_type": "markdown",
   "id": "1268882d",
   "metadata": {},
   "source": [
    "Intro prompt to prime for questions:"
   ]
  },
  {
   "cell_type": "code",
   "execution_count": 17,
   "id": "585313a0",
   "metadata": {},
   "outputs": [],
   "source": [
    "threats = (\n",
    "    \"Model extraction attack\",\n",
    "    \"Poisoning attack\",\n",
    "    \"Data extraction attack\",\n",
    "    \"Evasion attack\",\n",
    "    \"Model bias\",\n",
    "    \"General lack of robustness\",\n",
    ")"
   ]
  },
  {
   "cell_type": "code",
   "execution_count": 18,
   "id": "90963660",
   "metadata": {},
   "outputs": [],
   "source": [
    "contexts = (\n",
    "    \"Specific adversarial defense methods\",\n",
    "    \"Specific adversarial attack methods\",\n",
    "    \"Methods which improve general adversarial robustness\",\n",
    "    \"Addressing model bias\"\n",
    ")"
   ]
  },
  {
   "cell_type": "code",
   "execution_count": 19,
   "id": "bc5897db",
   "metadata": {},
   "outputs": [
    {
     "name": "stdout",
     "output_type": "stream",
     "text": [
      "('Deterrent Control (Model Watermarking)', 'Backdoor Pattern', 'Differential Privacy Learning', 'Bias removal via relabeling', 'Adversarial Examples', 'Robust/Adversarial Training', 'Corrective approach', 'Data Encryption/Data learnability locking', 'Label Uncertainty', 'Robustness Certification', 'Adversarial Examples and Robust/Adversarial Training', 'Adversarial Examples Transferrability', 'Preventive Controls', 'Preprocessing', 'Fairness guarantee', 'Gradient Leakage (federated learning)', 'Property Inference Attacks/Differencial Privacy Defense', 'Adversarial Examples (for explanation methods)', 'Fairness', 'Defense against Membership Inference Attacks', 'Robust Inference', 'User privacy', 'Membership Inference', 'Side-channel attacks')\n"
     ]
    }
   ],
   "source": [
    "techniques = tuple(df_iclr[\"Technique\"].unique())\n",
    "print(techniques)"
   ]
  },
  {
   "cell_type": "code",
   "execution_count": 20,
   "id": "24d83dd3",
   "metadata": {},
   "outputs": [],
   "source": [
    "primer = fr\"\"\"Let's talk for a moment about the topic of adversarial machine learning. \n",
    "\n",
    "Can you explain each of the following threats succinctly? These threats are: {threats}.\"\"\""
   ]
  },
  {
   "cell_type": "code",
   "execution_count": 21,
   "id": "8e3273f3",
   "metadata": {},
   "outputs": [],
   "source": [
    "question_prompt = r\"\"\"\n",
    "I am shortly going to present you some hypothetical abstracts. I would like to ask you to answer some questions about them.\n",
    "\n",
    "The subject we are interested in is adversarial machine learning. Whenever I refer to an \"evasion attack\", I mean an attack in which\n",
    "adversarial noise is deliberately given to a model.\n",
    "\n",
    "For each of the abstracts I will present you,\n",
    "I would like you to answer the following questions. In each case, choose one of the answers explicitly \n",
    "provided in the question (unless stated otherwise in the question).\n",
    "For the multiple choice questions, you may choose the most relevant two answers \n",
    "if more than one is appropriate.\n",
    "\n",
    "Here are the questions I would like you to answer for each abstract. If a given case is\n",
    "really not clear, you may answer \"Not clear\".\n",
    "\n",
    "Q1: Which, if any, of the following threats to machine learning models is addressed \n",
    "in the abstract: {threats}. If none, answer \"None\". \n",
    "Q2: Which, if any, of the following context(s) is the abstract \n",
    "relevant to: {contexts}. If none, answer \"None\". \n",
    "Q3: Which, if any, of the following techniques is described in \n",
    "the abstract? {techniques}. If none, answer \"None\". \n",
    "Q4: Which, if any, industries or applications are explicitly referenced?\n",
    "For example, \"Media\", \"Healthcare\", or \"Automotive\". You can use any word you find most appropriate here.\n",
    "\n",
    "Present your response in the format of a JSON string. The keys are Q1 to Q4, and the values are the answers to the respective questions.\n",
    "\n",
    "I will now send you the abstracts one at at a time. Please answer to the best of your ability.\n",
    "\n",
    "Before I do that, firstly please confirm that you understand what I am asking of you.\n",
    "\"\"\".format(threats=threats, contexts=contexts, techniques=techniques)"
   ]
  },
  {
   "cell_type": "code",
   "execution_count": 19,
   "id": "09fc60f0",
   "metadata": {},
   "outputs": [
    {
     "name": "stdout",
     "output_type": "stream",
     "text": [
      "Let's talk for a moment about the topic of adversarial machine learning. \n",
      "\n",
      "Can you explain each of the following threats succinctly? These threats are: ('Model extraction attack', 'Poisoning attack', 'Data extraction attack', 'Evasion attack', 'Model bias', 'General lack of robustness').\n"
     ]
    }
   ],
   "source": [
    "print(primer)"
   ]
  },
  {
   "cell_type": "code",
   "execution_count": 20,
   "id": "927dfb17",
   "metadata": {},
   "outputs": [
    {
     "name": "stdout",
     "output_type": "stream",
     "text": [
      "\n",
      "I am shortly going to present you some hypothetical abstracts. I would like to ask you to answer some questions about them.\n",
      "\n",
      "The subject we are interested in is adversarial machine learning. Whenever I refer to an \"evasion attack\", I mean an attack in which\n",
      "adversarial noise is deliberately given to a model.\n",
      "\n",
      "For each of the abstracts I will present you,\n",
      "I would like you to answer the following questions. In each case, choose one of the answers explicitly \n",
      "provided in the question (unless stated otherwise in the question).\n",
      "For the multiple choice questions, you may choose the most relevant two answers \n",
      "if more than one is appropriate.\n",
      "\n",
      "Here are the questions I would like you to answer for each abstract. If a given case is\n",
      "really not clear, you may answer \"Not clear\".\n",
      "\n",
      "Q1: Which, if any, of the following threats to machine learning models is addressed \n",
      "in the abstract: ('Model extraction attack', 'Poisoning attack', 'Data extraction attack', 'Evasion attack', 'Model bias', 'General lack of robustness'). If none, answer \"None\". \n",
      "Q2: Which, if any, of the following context(s) is the abstract \n",
      "relevant to: ('Specific adversarial defense methods', 'Specific adversarial attack methods', 'Methods which improve general adversarial robustness', 'Addressing model bias'). If none, answer \"None\". \n",
      "Q3: Which, if any, of the following techniques is described in \n",
      "the abstract? ('Deterrent Control (Model Watermarking)', 'Backdoor Pattern', 'Differential Privacy Learning', 'Bias removal via relabeling', 'Adversarial Examples', 'Robust/Adversarial Training', 'Corrective approach', 'Data Encryption/Data learnability locking', 'Label Uncertainty', 'Robustness Certification', 'Adversarial Examples and Robust/Adversarial Training', 'Adversarial Examples Transferrability', 'Preventive Controls', 'Preprocessing', 'Fairness guarantee', 'Gradient Leakage (federated learning)', 'Property Inference Attacks/Differencial Privacy Defense', 'Adversarial Examples (for explanation methods)', 'Fairness', 'Defense against Membership Inference Attacks', 'Robust Inference', 'User privacy', 'Membership Inference', 'Side-channel attacks'). If none, answer \"None\". \n",
      "Q4: Which, if any, industries or applications are explicitly referenced?\n",
      "For example, \"Media\", \"Healthcare\", or \"Automotive\". You can use any word you find most appropriate here.\n",
      "\n",
      "Present your response in the format of a JSON string. The keys are Q1 to Q4, and the values are the answers to the respective questions.\n",
      "\n",
      "I will now send you the abstracts one at at a time. Please answer to the best of your ability.\n",
      "\n",
      "Before I do that, firstly please confirm that you understand what I am asking of you.\n",
      "\n"
     ]
    }
   ],
   "source": [
    "print(question_prompt)"
   ]
  },
  {
   "cell_type": "code",
   "execution_count": null,
   "id": "5b0ef5e4",
   "metadata": {},
   "outputs": [],
   "source": [
    "primer_answer = get_response(primer, chatbot)"
   ]
  },
  {
   "cell_type": "code",
   "execution_count": null,
   "id": "1900012a",
   "metadata": {},
   "outputs": [],
   "source": [
    "#answer = get_response(question_prompt, chatbot)"
   ]
  },
  {
   "cell_type": "code",
   "execution_count": null,
   "id": "86501989",
   "metadata": {},
   "outputs": [],
   "source": [
    "#answer"
   ]
  },
  {
   "cell_type": "markdown",
   "id": "c2d66045",
   "metadata": {},
   "source": [
    "For test set"
   ]
  },
  {
   "cell_type": "code",
   "execution_count": null,
   "id": "af7ec692",
   "metadata": {},
   "outputs": [],
   "source": [
    "answers = pd.Series(index=df_test[\"id\"])"
   ]
  },
  {
   "cell_type": "code",
   "execution_count": null,
   "id": "29066722",
   "metadata": {},
   "outputs": [],
   "source": [
    "for ix, (_, row) in enumerate(df_test.iterrows()):\n",
    "    print(f\"\\n\\n--- {ix}\")\n",
    "    if not pd.isnull(answers.loc[ix]):\n",
    "        if answers_unlabeled.loc[ix][0] == \"{\":\n",
    "            print(\"skip id already calculated and valid-looking\")\n",
    "            continue\n",
    "    # re-iterate question every 2 so it doesnt lose context\n",
    "    if not ix % 2:\n",
    "        get_response(question_prompt, chatbot)\n",
    "    abs_ = row.abstract\n",
    "    print(\"Abstract:\")\n",
    "    print(abs_)\n",
    "    print(\"Labels:\")\n",
    "    print(row[[\"threat_1\", \"threat_2\", \"context_1\", \"context_2\"]])\n",
    "    prompt = (\n",
    "        f\"Good. Here is the abstract:\\n\\n'{abs_}'\\n\\nPlease answer the questions and format your response as the \"\n",
    "        \"aforementioned JSON string only.\"\n",
    "    )\n",
    "    random_wait()\n",
    "    answer = get_response(prompt, chatbot)\n",
    "    print(\"Response:\")\n",
    "    print(answer[\"message\"])\n",
    "    answers.loc[row.id] = answer[\"message\"]\n",
    "answers.to_csv(\"./answers.csv\")"
   ]
  },
  {
   "cell_type": "markdown",
   "id": "6502e465",
   "metadata": {},
   "source": [
    "For full set"
   ]
  },
  {
   "cell_type": "code",
   "execution_count": null,
   "id": "51cf1bea",
   "metadata": {},
   "outputs": [],
   "source": [
    "answers_unlabeled = pd.Series(index=df_icml_abs[\"id\"])\n",
    "\n",
    "for ix, (_, row) in enumerate(df_icml_abs.iterrows()):\n",
    "    print(f\"\\n\\n--- {ix}\")\n",
    "    # skip those already done in test set\n",
    "    if row[\"id\"] in df_test[\"id\"].values:\n",
    "        print(\"skip id in test set\", row[\"id\"])\n",
    "        continue\n",
    "    # skip those already calculated on interrupted loop\n",
    "    # if the answer doesn't look like a valid JSON, redo anyway\n",
    "    if not pd.isnull(answers_unlabeled.loc[ix]):\n",
    "        if answers_unlabeled.loc[ix][0] == \"{\":\n",
    "            print(\"skip id already calculated and valid-looking\")\n",
    "            continue\n",
    "    # re-iterate question every 2 so it doesnt lose context\n",
    "    if not ix % 2:\n",
    "        get_response(question_prompt, chatbot)\n",
    "    abs_ = row.abstract\n",
    "    print(\"Abstract:\")\n",
    "    print(abs_)\n",
    "    prompt = (\n",
    "        f\"Good. Here is the abstract:\\n\\n'{abs_}'\\n\\nPlease answer the questions and format your response as the \"\n",
    "        \"aforementioned JSON string only.\"\n",
    "    )\n",
    "    random_wait()\n",
    "    answer = get_response(prompt, chatbot)\n",
    "    print(\"Response:\")\n",
    "    print(answer[\"message\"])\n",
    "    answers_unlabeled.loc[row.id] = answer[\"message\"]\n",
    "answers_unlabeled.to_csv(\"./answers_unlabeled.csv\")"
   ]
  },
  {
   "cell_type": "markdown",
   "id": "bafa7df5",
   "metadata": {},
   "source": [
    "### Process"
   ]
  },
  {
   "cell_type": "code",
   "execution_count": 224,
   "id": "7b1b6f66",
   "metadata": {},
   "outputs": [],
   "source": [
    "def parse_chatgpt_responses(df: pd.DataFrame) -> pd.DataFrame:\n",
    "    \"\"\"\n",
    "    Clean and parse raw responses into df columns\n",
    "    \"\"\"\n",
    "    df = df.rename({\"0\": \"response\"}, axis=1)\n",
    "    # try to grab a json from somewhere in response, ignoring whitespace padding\n",
    "    df = df.join(\n",
    "        df[\"response\"]\n",
    "        .str\n",
    "        .extract(\"(?s:.*)(?P<json>\\{\\s*(?s:.*)\\s*\\})(?s:.*)\")\n",
    "        .json\n",
    "        .str\n",
    "        .replace(\"\\n\", \"\")\n",
    "    )\n",
    "    # get rows where json successfully parsed and parsing failed\n",
    "    df_json = df[~df[\"json\"].isna()]\n",
    "    df_no_json = df[df[\"json\"].isna()]\n",
    "    # parse jsons\n",
    "    df_json = (\n",
    "        df_json\n",
    "        .join(\n",
    "            df_json[\"json\"].apply(lambda x: pd.Series(json.loads(x)))\n",
    "        )\n",
    "        .drop(\"json\", axis=1, errors=\"ignore\")\n",
    "    )\n",
    "    # try to match Q keys and parse answers directly\n",
    "    ptn = (\n",
    "        \".*\"\n",
    "        \"Q1\\s?:?(?P<Q1>.*)\"\n",
    "        \"Q2\\s?:?(?P<Q2>.*)\"\n",
    "        \"Q3\\s?:?(?P<Q3>.*)\"\n",
    "        \"Q4\\s?:?(?P<Q4>.*)\"\n",
    "        \".*\"\n",
    "    )\n",
    "    df_no_json = (\n",
    "        df_no_json\n",
    "        .drop(\"json\", axis=1, errors=\"ignore\")\n",
    "        .join(\n",
    "            df_no_json[\"response\"].str.extract(\n",
    "                ptn,\n",
    "                flags=re.DOTALL\n",
    "            )\n",
    "        )\n",
    "    )\n",
    "    # join both cases\n",
    "    df = pd.concat([df_json, df_no_json])\n",
    "    # clear whitespace, quotes and brackets\n",
    "    for c in (\"Q1\", \"Q2\", \"Q3\", \"Q4\"):   \n",
    "        df[c] = df[c].str.replace(\"[\\n\\t]\", \"\", regex=True).str.strip(\" \\\"\\'\")\n",
    "    # rename question numbers to be more descriptive of predictions\n",
    "    df = df.rename({\n",
    "        \"Q1\": \"threat_pred\",\n",
    "        \"Q2\": \"context_pred\",\n",
    "        \"Q3\": \"techniques_pred\",\n",
    "        \"Q4\": \"industries_pred\"\n",
    "    }, axis=1)\n",
    "    return df"
   ]
  },
  {
   "cell_type": "markdown",
   "id": "1eb86ea2",
   "metadata": {},
   "source": [
    "Clean"
   ]
  },
  {
   "cell_type": "code",
   "execution_count": 225,
   "id": "d302ab09",
   "metadata": {},
   "outputs": [],
   "source": [
    "df_ans_test = pd.read_csv(\"answers.csv\")\n",
    "df_ans_unlabeled = pd.read_csv(\"answers_unlabeled.csv\")"
   ]
  },
  {
   "cell_type": "code",
   "execution_count": 226,
   "id": "6f68493d",
   "metadata": {},
   "outputs": [],
   "source": [
    "df_ans_test = parse_chatgpt_responses(df_ans_test)"
   ]
  },
  {
   "cell_type": "code",
   "execution_count": 227,
   "id": "41b85de3",
   "metadata": {},
   "outputs": [],
   "source": [
    "df_ans_unlabeled = df_ans_unlabeled[~df_ans_unlabeled[\"id\"].isin(df_ans_test[\"id\"])]\n",
    "df_ans_unlabeled = parse_chatgpt_responses(df_ans_unlabeled).dropna(how=\"any\")"
   ]
  },
  {
   "cell_type": "markdown",
   "id": "f4d0f129",
   "metadata": {},
   "source": [
    "Define verbose label -> short label mappings for simplifying model outputs"
   ]
  },
  {
   "cell_type": "code",
   "execution_count": 228,
   "id": "85122e2b",
   "metadata": {},
   "outputs": [],
   "source": [
    "threats_short = {\n",
    "    'Data extraction attack': \"Data Extraction\",\n",
    "    'Evasion attack' : \"Evasion\",\n",
    "    'General lack of robustness' : \"Robustness\",\n",
    "    'Model bias': \"Bias\",\n",
    "    'Model extraction attack': \"Model Extraction\",\n",
    "    'Poisoning attack': \"Poisoning\",\n",
    "    'None': \"Not relevant\"\n",
    "}"
   ]
  },
  {
   "cell_type": "code",
   "execution_count": 229,
   "id": "bd4d898f",
   "metadata": {},
   "outputs": [],
   "source": [
    "contexts_short = {\n",
    "    'Addressing model bias': \"Bias\",\n",
    "    'Methods which improve general adversarial robustness': \"Robustness measures\",\n",
    "    'Specific adversarial attack methods': \"Attacks\",\n",
    "    'Specific adversarial defense methods': \"Defense\",\n",
    "    'None': \"Not relevant\"\n",
    "}"
   ]
  },
  {
   "cell_type": "code",
   "execution_count": 230,
   "id": "ee9e6e6c",
   "metadata": {},
   "outputs": [],
   "source": [
    "df_test_gpt = pd.merge(df_test, df_ans_test.drop(\"response\", axis=1), left_on=\"id\", right_on=\"id\").groupby(\"id\").first()"
   ]
  },
  {
   "cell_type": "markdown",
   "id": "5cbe4e5e",
   "metadata": {},
   "source": [
    "Shorten labels"
   ]
  },
  {
   "cell_type": "code",
   "execution_count": 231,
   "id": "a419361d",
   "metadata": {},
   "outputs": [],
   "source": [
    "df_test_gpt[\"threat_pred\"] = df_test_gpt[\"threat_pred\"].replace(threats_short, regex=True)\n",
    "df_test_gpt[\"context_pred\"] = df_test_gpt[\"context_pred\"].replace(contexts_short, regex=True)"
   ]
  },
  {
   "cell_type": "markdown",
   "id": "ef9d4764",
   "metadata": {},
   "source": [
    "#### Confusion matrices: threat"
   ]
  },
  {
   "cell_type": "code",
   "execution_count": 232,
   "id": "334625d9",
   "metadata": {},
   "outputs": [
    {
     "data": {
      "text/plain": [
       "<sklearn.metrics._plot.confusion_matrix.ConfusionMatrixDisplay at 0x7fdf4e910b20>"
      ]
     },
     "execution_count": 232,
     "metadata": {},
     "output_type": "execute_result"
    },
    {
     "data": {
      "image/png": "[encoded data removed]",
      "text/plain": [
       "<Figure size 1600x1600 with 2 Axes>"
      ]
     },
     "metadata": {},
     "output_type": "display_data"
    }
   ],
   "source": [
    "df_cm_swaplabels = df_test_gpt.copy()\n",
    "threat_2nd_agree = df_test_gpt[df_test_gpt[\"threat_2\"] == df_test_gpt[\"threat_pred\"]]\n",
    "df_cm_swaplabels.loc[threat_2nd_agree.index, \"threat_1\"] = threat_2nd_agree[\"threat_2\"]\n",
    "labels = sorted(df_cm_swaplabels[[\"threat_1\", \"threat_pred\"]].stack().unique())\n",
    "cm = confusion_matrix(df_cm_swaplabels[\"threat_1\"], df_cm_swaplabels[\"threat_pred\"], labels=labels)\n",
    "df_cm = pd.DataFrame(cm, index=labels, columns=labels)\n",
    "fig, ax = plt.subplots(1, figsize=(16, 16))\n",
    "ax.set_title(\"Confusion matrix: threat\")\n",
    "ConfusionMatrixDisplay.from_predictions(df_cm_swaplabels[\"threat_1\"], df_cm_swaplabels[\"threat_pred\"], ax=ax)"
   ]
  },
  {
   "cell_type": "markdown",
   "id": "f4ee4904",
   "metadata": {},
   "source": [
    "Rows where I disagree with GPT on primary **threat** label"
   ]
  },
  {
   "cell_type": "code",
   "execution_count": 233,
   "id": "fd6239a7",
   "metadata": {},
   "outputs": [],
   "source": [
    "df_threat_1_disagree = df_test_gpt[df_test_gpt[\"threat_1\"] != df_test_gpt[\"threat_pred\"]]"
   ]
  },
  {
   "cell_type": "code",
   "execution_count": 234,
   "id": "71a78458",
   "metadata": {},
   "outputs": [],
   "source": [
    "threat_disagreement_assessment = pd.Series(index=df_threat_1_disagree.index, dtype=str)"
   ]
  },
  {
   "cell_type": "code",
   "execution_count": 235,
   "id": "22bf22ae",
   "metadata": {},
   "outputs": [
    {
     "name": "stdout",
     "output_type": "stream",
     "text": [
      "me: Robustness\n",
      "chatgpt: Evasion\n",
      "\n",
      "Impressive results in natural language processing (NLP) based on the Transformer neural network architecture have inspired researchers to explore viewing offline reinforcement learning (RL) as a generic sequence modeling problem. Recent works based on this paradigm have achieved state-of-the-art results in several of the mostly deterministic offline Atari and D4RL benchmarks. However, because these methods jointly model the states and actions as a single sequencing problem, they struggle to disentangle the effects of the policy and world dynamics on the return. Thus, in adversarial or stochastic environments, these methods lead to overly optimistic behavior that can be dangerous in safety-critical systems like autonomous driving. In this work, we propose a method that addresses this optimism bias by explicitly disentangling the policy and world models, which allows us at test time to search for policies that are robust to multiple possible futures in the environment. We demonstrate our method’s superior performance on a variety of autonomous driving tasks in simulation.\n"
     ]
    }
   ],
   "source": [
    "ix = 3\n",
    "id_ = df_threat_1_disagree.index[ix]\n",
    "print(\"me:\", df_threat_1_disagree.iloc[ix][\"threat_1\"])\n",
    "print(\"chatgpt:\", df_threat_1_disagree.iloc[ix][\"threat_pred\"])\n",
    "print()\n",
    "print(df_threat_1_disagree[[\"threat_1\", \"threat_pred\", \"abstract\"]].iloc[ix][\"abstract\"])"
   ]
  },
  {
   "cell_type": "markdown",
   "id": "3fd9a33f",
   "metadata": {},
   "source": [
    "Here, interpret \"Wrong\"/\"Correct\" as \"ChatGPT is X\"."
   ]
  },
  {
   "cell_type": "code",
   "execution_count": 236,
   "id": "b7d22d0d",
   "metadata": {},
   "outputs": [],
   "source": [
    "threat_disagreement_assessment = pd.read_csv(\"threat_disagreement_assessment.csv\")"
   ]
  },
  {
   "cell_type": "code",
   "execution_count": 237,
   "id": "62b0d80e",
   "metadata": {},
   "outputs": [
    {
     "data": {
      "application/vnd.plotly.v1+json": {
       "config": {
        "plotlyServerURL": "https://plot.ly"
       },
       "data": [
        {
         "domain": {
          "x": [
           0,
           1
          ],
          "y": [
           0,
           1
          ]
         },
         "hoverinfo": "label+percent",
         "hovertemplate": "assessment=%{label}<extra></extra>",
         "labels": [
          "Arguable",
          "Arguable",
          "Arguable",
          "Arguable",
          "Wrong",
          "Wrong",
          "Wrong",
          "Arguable",
          "Wrong",
          "Wrong",
          "Wrong",
          "Arguable",
          "Wrong",
          "Arguable",
          "Wrong",
          "Correct"
         ],
         "legendgroup": "",
         "name": "",
         "showlegend": true,
         "textfont": {
          "size": 20
         },
         "textinfo": "value+percent+label",
         "type": "pie"
        }
       ],
       "layout": {
        "legend": {
         "tracegroupgap": 0
        },
        "template": {
         "data": {
          "bar": [
           {
            "error_x": {
             "color": "#2a3f5f"
            },
            "error_y": {
             "color": "#2a3f5f"
            },
            "marker": {
             "line": {
              "color": "#E5ECF6",
              "width": 0.5
             },
             "pattern": {
              "fillmode": "overlay",
              "size": 10,
              "solidity": 0.2
             }
            },
            "type": "bar"
           }
          ],
          "barpolar": [
           {
            "marker": {
             "line": {
              "color": "#E5ECF6",
              "width": 0.5
             },
             "pattern": {
              "fillmode": "overlay",
              "size": 10,
              "solidity": 0.2
             }
            },
            "type": "barpolar"
           }
          ],
          "carpet": [
           {
            "aaxis": {
             "endlinecolor": "#2a3f5f",
             "gridcolor": "white",
             "linecolor": "white",
             "minorgridcolor": "white",
             "startlinecolor": "#2a3f5f"
            },
            "baxis": {
             "endlinecolor": "#2a3f5f",
             "gridcolor": "white",
             "linecolor": "white",
             "minorgridcolor": "white",
             "startlinecolor": "#2a3f5f"
            },
            "type": "carpet"
           }
          ],
          "choropleth": [
           {
            "colorbar": {
             "outlinewidth": 0,
             "ticks": ""
            },
            "type": "choropleth"
           }
          ],
          "contour": [
           {
            "colorbar": {
             "outlinewidth": 0,
             "ticks": ""
            },
            "colorscale": [
             [
              0,
              "#0d0887"
             ],
             [
              0.1111111111111111,
              "#46039f"
             ],
             [
              0.2222222222222222,
              "#7201a8"
             ],
             [
              0.3333333333333333,
              "#9c179e"
             ],
             [
              0.4444444444444444,
              "#bd3786"
             ],
             [
              0.5555555555555556,
              "#d8576b"
             ],
             [
              0.6666666666666666,
              "#ed7953"
             ],
             [
              0.7777777777777778,
              "#fb9f3a"
             ],
             [
              0.8888888888888888,
              "#fdca26"
             ],
             [
              1,
              "#f0f921"
             ]
            ],
            "type": "contour"
           }
          ],
          "contourcarpet": [
           {
            "colorbar": {
             "outlinewidth": 0,
             "ticks": ""
            },
            "type": "contourcarpet"
           }
          ],
          "heatmap": [
           {
            "colorbar": {
             "outlinewidth": 0,
             "ticks": ""
            },
            "colorscale": [
             [
              0,
              "#0d0887"
             ],
             [
              0.1111111111111111,
              "#46039f"
             ],
             [
              0.2222222222222222,
              "#7201a8"
             ],
             [
              0.3333333333333333,
              "#9c179e"
             ],
             [
              0.4444444444444444,
              "#bd3786"
             ],
             [
              0.5555555555555556,
              "#d8576b"
             ],
             [
              0.6666666666666666,
              "#ed7953"
             ],
             [
              0.7777777777777778,
              "#fb9f3a"
             ],
             [
              0.8888888888888888,
              "#fdca26"
             ],
             [
              1,
              "#f0f921"
             ]
            ],
            "type": "heatmap"
           }
          ],
          "heatmapgl": [
           {
            "colorbar": {
             "outlinewidth": 0,
             "ticks": ""
            },
            "colorscale": [
             [
              0,
              "#0d0887"
             ],
             [
              0.1111111111111111,
              "#46039f"
             ],
             [
              0.2222222222222222,
              "#7201a8"
             ],
             [
              0.3333333333333333,
              "#9c179e"
             ],
             [
              0.4444444444444444,
              "#bd3786"
             ],
             [
              0.5555555555555556,
              "#d8576b"
             ],
             [
              0.6666666666666666,
              "#ed7953"
             ],
             [
              0.7777777777777778,
              "#fb9f3a"
             ],
             [
              0.8888888888888888,
              "#fdca26"
             ],
             [
              1,
              "#f0f921"
             ]
            ],
            "type": "heatmapgl"
           }
          ],
          "histogram": [
           {
            "marker": {
             "pattern": {
              "fillmode": "overlay",
              "size": 10,
              "solidity": 0.2
             }
            },
            "type": "histogram"
           }
          ],
          "histogram2d": [
           {
            "colorbar": {
             "outlinewidth": 0,
             "ticks": ""
            },
            "colorscale": [
             [
              0,
              "#0d0887"
             ],
             [
              0.1111111111111111,
              "#46039f"
             ],
             [
              0.2222222222222222,
              "#7201a8"
             ],
             [
              0.3333333333333333,
              "#9c179e"
             ],
             [
              0.4444444444444444,
              "#bd3786"
             ],
             [
              0.5555555555555556,
              "#d8576b"
             ],
             [
              0.6666666666666666,
              "#ed7953"
             ],
             [
              0.7777777777777778,
              "#fb9f3a"
             ],
             [
              0.8888888888888888,
              "#fdca26"
             ],
             [
              1,
              "#f0f921"
             ]
            ],
            "type": "histogram2d"
           }
          ],
          "histogram2dcontour": [
           {
            "colorbar": {
             "outlinewidth": 0,
             "ticks": ""
            },
            "colorscale": [
             [
              0,
              "#0d0887"
             ],
             [
              0.1111111111111111,
              "#46039f"
             ],
             [
              0.2222222222222222,
              "#7201a8"
             ],
             [
              0.3333333333333333,
              "#9c179e"
             ],
             [
              0.4444444444444444,
              "#bd3786"
             ],
             [
              0.5555555555555556,
              "#d8576b"
             ],
             [
              0.6666666666666666,
              "#ed7953"
             ],
             [
              0.7777777777777778,
              "#fb9f3a"
             ],
             [
              0.8888888888888888,
              "#fdca26"
             ],
             [
              1,
              "#f0f921"
             ]
            ],
            "type": "histogram2dcontour"
           }
          ],
          "mesh3d": [
           {
            "colorbar": {
             "outlinewidth": 0,
             "ticks": ""
            },
            "type": "mesh3d"
           }
          ],
          "parcoords": [
           {
            "line": {
             "colorbar": {
              "outlinewidth": 0,
              "ticks": ""
             }
            },
            "type": "parcoords"
           }
          ],
          "pie": [
           {
            "automargin": true,
            "type": "pie"
           }
          ],
          "scatter": [
           {
            "fillpattern": {
             "fillmode": "overlay",
             "size": 10,
             "solidity": 0.2
            },
            "type": "scatter"
           }
          ],
          "scatter3d": [
           {
            "line": {
             "colorbar": {
              "outlinewidth": 0,
              "ticks": ""
             }
            },
            "marker": {
             "colorbar": {
              "outlinewidth": 0,
              "ticks": ""
             }
            },
            "type": "scatter3d"
           }
          ],
          "scattercarpet": [
           {
            "marker": {
             "colorbar": {
              "outlinewidth": 0,
              "ticks": ""
             }
            },
            "type": "scattercarpet"
           }
          ],
          "scattergeo": [
           {
            "marker": {
             "colorbar": {
              "outlinewidth": 0,
              "ticks": ""
             }
            },
            "type": "scattergeo"
           }
          ],
          "scattergl": [
           {
            "marker": {
             "colorbar": {
              "outlinewidth": 0,
              "ticks": ""
             }
            },
            "type": "scattergl"
           }
          ],
          "scattermapbox": [
           {
            "marker": {
             "colorbar": {
              "outlinewidth": 0,
              "ticks": ""
             }
            },
            "type": "scattermapbox"
           }
          ],
          "scatterpolar": [
           {
            "marker": {
             "colorbar": {
              "outlinewidth": 0,
              "ticks": ""
             }
            },
            "type": "scatterpolar"
           }
          ],
          "scatterpolargl": [
           {
            "marker": {
             "colorbar": {
              "outlinewidth": 0,
              "ticks": ""
             }
            },
            "type": "scatterpolargl"
           }
          ],
          "scatterternary": [
           {
            "marker": {
             "colorbar": {
              "outlinewidth": 0,
              "ticks": ""
             }
            },
            "type": "scatterternary"
           }
          ],
          "surface": [
           {
            "colorbar": {
             "outlinewidth": 0,
             "ticks": ""
            },
            "colorscale": [
             [
              0,
              "#0d0887"
             ],
             [
              0.1111111111111111,
              "#46039f"
             ],
             [
              0.2222222222222222,
              "#7201a8"
             ],
             [
              0.3333333333333333,
              "#9c179e"
             ],
             [
              0.4444444444444444,
              "#bd3786"
             ],
             [
              0.5555555555555556,
              "#d8576b"
             ],
             [
              0.6666666666666666,
              "#ed7953"
             ],
             [
              0.7777777777777778,
              "#fb9f3a"
             ],
             [
              0.8888888888888888,
              "#fdca26"
             ],
             [
              1,
              "#f0f921"
             ]
            ],
            "type": "surface"
           }
          ],
          "table": [
           {
            "cells": {
             "fill": {
              "color": "#EBF0F8"
             },
             "line": {
              "color": "white"
             }
            },
            "header": {
             "fill": {
              "color": "#C8D4E3"
             },
             "line": {
              "color": "white"
             }
            },
            "type": "table"
           }
          ]
         },
         "layout": {
          "annotationdefaults": {
           "arrowcolor": "#2a3f5f",
           "arrowhead": 0,
           "arrowwidth": 1
          },
          "autotypenumbers": "strict",
          "coloraxis": {
           "colorbar": {
            "outlinewidth": 0,
            "ticks": ""
           }
          },
          "colorscale": {
           "diverging": [
            [
             0,
             "#8e0152"
            ],
            [
             0.1,
             "#c51b7d"
            ],
            [
             0.2,
             "#de77ae"
            ],
            [
             0.3,
             "#f1b6da"
            ],
            [
             0.4,
             "#fde0ef"
            ],
            [
             0.5,
             "#f7f7f7"
            ],
            [
             0.6,
             "#e6f5d0"
            ],
            [
             0.7,
             "#b8e186"
            ],
            [
             0.8,
             "#7fbc41"
            ],
            [
             0.9,
             "#4d9221"
            ],
            [
             1,
             "#276419"
            ]
           ],
           "sequential": [
            [
             0,
             "#0d0887"
            ],
            [
             0.1111111111111111,
             "#46039f"
            ],
            [
             0.2222222222222222,
             "#7201a8"
            ],
            [
             0.3333333333333333,
             "#9c179e"
            ],
            [
             0.4444444444444444,
             "#bd3786"
            ],
            [
             0.5555555555555556,
             "#d8576b"
            ],
            [
             0.6666666666666666,
             "#ed7953"
            ],
            [
             0.7777777777777778,
             "#fb9f3a"
            ],
            [
             0.8888888888888888,
             "#fdca26"
            ],
            [
             1,
             "#f0f921"
            ]
           ],
           "sequentialminus": [
            [
             0,
             "#0d0887"
            ],
            [
             0.1111111111111111,
             "#46039f"
            ],
            [
             0.2222222222222222,
             "#7201a8"
            ],
            [
             0.3333333333333333,
             "#9c179e"
            ],
            [
             0.4444444444444444,
             "#bd3786"
            ],
            [
             0.5555555555555556,
             "#d8576b"
            ],
            [
             0.6666666666666666,
             "#ed7953"
            ],
            [
             0.7777777777777778,
             "#fb9f3a"
            ],
            [
             0.8888888888888888,
             "#fdca26"
            ],
            [
             1,
             "#f0f921"
            ]
           ]
          },
          "colorway": [
           "#636efa",
           "#EF553B",
           "#00cc96",
           "#ab63fa",
           "#FFA15A",
           "#19d3f3",
           "#FF6692",
           "#B6E880",
           "#FF97FF",
           "#FECB52"
          ],
          "font": {
           "color": "#2a3f5f"
          },
          "geo": {
           "bgcolor": "white",
           "lakecolor": "white",
           "landcolor": "#E5ECF6",
           "showlakes": true,
           "showland": true,
           "subunitcolor": "white"
          },
          "hoverlabel": {
           "align": "left"
          },
          "hovermode": "closest",
          "mapbox": {
           "style": "light"
          },
          "paper_bgcolor": "white",
          "plot_bgcolor": "#E5ECF6",
          "polar": {
           "angularaxis": {
            "gridcolor": "white",
            "linecolor": "white",
            "ticks": ""
           },
           "bgcolor": "#E5ECF6",
           "radialaxis": {
            "gridcolor": "white",
            "linecolor": "white",
            "ticks": ""
           }
          },
          "scene": {
           "xaxis": {
            "backgroundcolor": "#E5ECF6",
            "gridcolor": "white",
            "gridwidth": 2,
            "linecolor": "white",
            "showbackground": true,
            "ticks": "",
            "zerolinecolor": "white"
           },
           "yaxis": {
            "backgroundcolor": "#E5ECF6",
            "gridcolor": "white",
            "gridwidth": 2,
            "linecolor": "white",
            "showbackground": true,
            "ticks": "",
            "zerolinecolor": "white"
           },
           "zaxis": {
            "backgroundcolor": "#E5ECF6",
            "gridcolor": "white",
            "gridwidth": 2,
            "linecolor": "white",
            "showbackground": true,
            "ticks": "",
            "zerolinecolor": "white"
           }
          },
          "shapedefaults": {
           "line": {
            "color": "#2a3f5f"
           }
          },
          "ternary": {
           "aaxis": {
            "gridcolor": "white",
            "linecolor": "white",
            "ticks": ""
           },
           "baxis": {
            "gridcolor": "white",
            "linecolor": "white",
            "ticks": ""
           },
           "bgcolor": "#E5ECF6",
           "caxis": {
            "gridcolor": "white",
            "linecolor": "white",
            "ticks": ""
           }
          },
          "title": {
           "x": 0.05
          },
          "xaxis": {
           "automargin": true,
           "gridcolor": "white",
           "linecolor": "white",
           "ticks": "",
           "title": {
            "standoff": 15
           },
           "zerolinecolor": "white",
           "zerolinewidth": 2
          },
          "yaxis": {
           "automargin": true,
           "gridcolor": "white",
           "linecolor": "white",
           "ticks": "",
           "title": {
            "standoff": 15
           },
           "zerolinecolor": "white",
           "zerolinewidth": 2
          }
         }
        },
        "title": {
         "text": "GPT 3.5 Da Vinci-003 ('Chat') resolution of <b>threat</b> disagreements with manual annotation"
        }
       }
      },
      "text/html": [
       "<div>                            <div id=\"f04e4022-722d-4d65-af9d-0ca537064dde\" class=\"plotly-graph-div\" style=\"height:525px; width:100%;\"></div>            <script type=\"text/javascript\">                require([\"plotly\"], function(Plotly) {                    window.PLOTLYENV=window.PLOTLYENV || {};                                    if (document.getElementById(\"f04e4022-722d-4d65-af9d-0ca537064dde\")) {                    Plotly.newPlot(                        \"f04e4022-722d-4d65-af9d-0ca537064dde\",                        [{\"domain\":{\"x\":[0.0,1.0],\"y\":[0.0,1.0]},\"hovertemplate\":\"assessment=%{label}<extra></extra>\",\"labels\":[\"Arguable\",\"Arguable\",\"Arguable\",\"Arguable\",\"Wrong\",\"Wrong\",\"Wrong\",\"Arguable\",\"Wrong\",\"Wrong\",\"Wrong\",\"Arguable\",\"Wrong\",\"Arguable\",\"Wrong\",\"Correct\"],\"legendgroup\":\"\",\"name\":\"\",\"showlegend\":true,\"type\":\"pie\",\"textfont\":{\"size\":20},\"hoverinfo\":\"label+percent\",\"textinfo\":\"value+percent+label\"}],                        {\"template\":{\"data\":{\"histogram2dcontour\":[{\"type\":\"histogram2dcontour\",\"colorbar\":{\"outlinewidth\":0,\"ticks\":\"\"},\"colorscale\":[[0.0,\"#0d0887\"],[0.1111111111111111,\"#46039f\"],[0.2222222222222222,\"#7201a8\"],[0.3333333333333333,\"#9c179e\"],[0.4444444444444444,\"#bd3786\"],[0.5555555555555556,\"#d8576b\"],[0.6666666666666666,\"#ed7953\"],[0.7777777777777778,\"#fb9f3a\"],[0.8888888888888888,\"#fdca26\"],[1.0,\"#f0f921\"]]}],\"choropleth\":[{\"type\":\"choropleth\",\"colorbar\":{\"outlinewidth\":0,\"ticks\":\"\"}}],\"histogram2d\":[{\"type\":\"histogram2d\",\"colorbar\":{\"outlinewidth\":0,\"ticks\":\"\"},\"colorscale\":[[0.0,\"#0d0887\"],[0.1111111111111111,\"#46039f\"],[0.2222222222222222,\"#7201a8\"],[0.3333333333333333,\"#9c179e\"],[0.4444444444444444,\"#bd3786\"],[0.5555555555555556,\"#d8576b\"],[0.6666666666666666,\"#ed7953\"],[0.7777777777777778,\"#fb9f3a\"],[0.8888888888888888,\"#fdca26\"],[1.0,\"#f0f921\"]]}],\"heatmap\":[{\"type\":\"heatmap\",\"colorbar\":{\"outlinewidth\":0,\"ticks\":\"\"},\"colorscale\":[[0.0,\"#0d0887\"],[0.1111111111111111,\"#46039f\"],[0.2222222222222222,\"#7201a8\"],[0.3333333333333333,\"#9c179e\"],[0.4444444444444444,\"#bd3786\"],[0.5555555555555556,\"#d8576b\"],[0.6666666666666666,\"#ed7953\"],[0.7777777777777778,\"#fb9f3a\"],[0.8888888888888888,\"#fdca26\"],[1.0,\"#f0f921\"]]}],\"heatmapgl\":[{\"type\":\"heatmapgl\",\"colorbar\":{\"outlinewidth\":0,\"ticks\":\"\"},\"colorscale\":[[0.0,\"#0d0887\"],[0.1111111111111111,\"#46039f\"],[0.2222222222222222,\"#7201a8\"],[0.3333333333333333,\"#9c179e\"],[0.4444444444444444,\"#bd3786\"],[0.5555555555555556,\"#d8576b\"],[0.6666666666666666,\"#ed7953\"],[0.7777777777777778,\"#fb9f3a\"],[0.8888888888888888,\"#fdca26\"],[1.0,\"#f0f921\"]]}],\"contourcarpet\":[{\"type\":\"contourcarpet\",\"colorbar\":{\"outlinewidth\":0,\"ticks\":\"\"}}],\"contour\":[{\"type\":\"contour\",\"colorbar\":{\"outlinewidth\":0,\"ticks\":\"\"},\"colorscale\":[[0.0,\"#0d0887\"],[0.1111111111111111,\"#46039f\"],[0.2222222222222222,\"#7201a8\"],[0.3333333333333333,\"#9c179e\"],[0.4444444444444444,\"#bd3786\"],[0.5555555555555556,\"#d8576b\"],[0.6666666666666666,\"#ed7953\"],[0.7777777777777778,\"#fb9f3a\"],[0.8888888888888888,\"#fdca26\"],[1.0,\"#f0f921\"]]}],\"surface\":[{\"type\":\"surface\",\"colorbar\":{\"outlinewidth\":0,\"ticks\":\"\"},\"colorscale\":[[0.0,\"#0d0887\"],[0.1111111111111111,\"#46039f\"],[0.2222222222222222,\"#7201a8\"],[0.3333333333333333,\"#9c179e\"],[0.4444444444444444,\"#bd3786\"],[0.5555555555555556,\"#d8576b\"],[0.6666666666666666,\"#ed7953\"],[0.7777777777777778,\"#fb9f3a\"],[0.8888888888888888,\"#fdca26\"],[1.0,\"#f0f921\"]]}],\"mesh3d\":[{\"type\":\"mesh3d\",\"colorbar\":{\"outlinewidth\":0,\"ticks\":\"\"}}],\"scatter\":[{\"fillpattern\":{\"fillmode\":\"overlay\",\"size\":10,\"solidity\":0.2},\"type\":\"scatter\"}],\"parcoords\":[{\"type\":\"parcoords\",\"line\":{\"colorbar\":{\"outlinewidth\":0,\"ticks\":\"\"}}}],\"scatterpolargl\":[{\"type\":\"scatterpolargl\",\"marker\":{\"colorbar\":{\"outlinewidth\":0,\"ticks\":\"\"}}}],\"bar\":[{\"error_x\":{\"color\":\"#2a3f5f\"},\"error_y\":{\"color\":\"#2a3f5f\"},\"marker\":{\"line\":{\"color\":\"#E5ECF6\",\"width\":0.5},\"pattern\":{\"fillmode\":\"overlay\",\"size\":10,\"solidity\":0.2}},\"type\":\"bar\"}],\"scattergeo\":[{\"type\":\"scattergeo\",\"marker\":{\"colorbar\":{\"outlinewidth\":0,\"ticks\":\"\"}}}],\"scatterpolar\":[{\"type\":\"scatterpolar\",\"marker\":{\"colorbar\":{\"outlinewidth\":0,\"ticks\":\"\"}}}],\"histogram\":[{\"marker\":{\"pattern\":{\"fillmode\":\"overlay\",\"size\":10,\"solidity\":0.2}},\"type\":\"histogram\"}],\"scattergl\":[{\"type\":\"scattergl\",\"marker\":{\"colorbar\":{\"outlinewidth\":0,\"ticks\":\"\"}}}],\"scatter3d\":[{\"type\":\"scatter3d\",\"line\":{\"colorbar\":{\"outlinewidth\":0,\"ticks\":\"\"}},\"marker\":{\"colorbar\":{\"outlinewidth\":0,\"ticks\":\"\"}}}],\"scattermapbox\":[{\"type\":\"scattermapbox\",\"marker\":{\"colorbar\":{\"outlinewidth\":0,\"ticks\":\"\"}}}],\"scatterternary\":[{\"type\":\"scatterternary\",\"marker\":{\"colorbar\":{\"outlinewidth\":0,\"ticks\":\"\"}}}],\"scattercarpet\":[{\"type\":\"scattercarpet\",\"marker\":{\"colorbar\":{\"outlinewidth\":0,\"ticks\":\"\"}}}],\"carpet\":[{\"aaxis\":{\"endlinecolor\":\"#2a3f5f\",\"gridcolor\":\"white\",\"linecolor\":\"white\",\"minorgridcolor\":\"white\",\"startlinecolor\":\"#2a3f5f\"},\"baxis\":{\"endlinecolor\":\"#2a3f5f\",\"gridcolor\":\"white\",\"linecolor\":\"white\",\"minorgridcolor\":\"white\",\"startlinecolor\":\"#2a3f5f\"},\"type\":\"carpet\"}],\"table\":[{\"cells\":{\"fill\":{\"color\":\"#EBF0F8\"},\"line\":{\"color\":\"white\"}},\"header\":{\"fill\":{\"color\":\"#C8D4E3\"},\"line\":{\"color\":\"white\"}},\"type\":\"table\"}],\"barpolar\":[{\"marker\":{\"line\":{\"color\":\"#E5ECF6\",\"width\":0.5},\"pattern\":{\"fillmode\":\"overlay\",\"size\":10,\"solidity\":0.2}},\"type\":\"barpolar\"}],\"pie\":[{\"automargin\":true,\"type\":\"pie\"}]},\"layout\":{\"autotypenumbers\":\"strict\",\"colorway\":[\"#636efa\",\"#EF553B\",\"#00cc96\",\"#ab63fa\",\"#FFA15A\",\"#19d3f3\",\"#FF6692\",\"#B6E880\",\"#FF97FF\",\"#FECB52\"],\"font\":{\"color\":\"#2a3f5f\"},\"hovermode\":\"closest\",\"hoverlabel\":{\"align\":\"left\"},\"paper_bgcolor\":\"white\",\"plot_bgcolor\":\"#E5ECF6\",\"polar\":{\"bgcolor\":\"#E5ECF6\",\"angularaxis\":{\"gridcolor\":\"white\",\"linecolor\":\"white\",\"ticks\":\"\"},\"radialaxis\":{\"gridcolor\":\"white\",\"linecolor\":\"white\",\"ticks\":\"\"}},\"ternary\":{\"bgcolor\":\"#E5ECF6\",\"aaxis\":{\"gridcolor\":\"white\",\"linecolor\":\"white\",\"ticks\":\"\"},\"baxis\":{\"gridcolor\":\"white\",\"linecolor\":\"white\",\"ticks\":\"\"},\"caxis\":{\"gridcolor\":\"white\",\"linecolor\":\"white\",\"ticks\":\"\"}},\"coloraxis\":{\"colorbar\":{\"outlinewidth\":0,\"ticks\":\"\"}},\"colorscale\":{\"sequential\":[[0.0,\"#0d0887\"],[0.1111111111111111,\"#46039f\"],[0.2222222222222222,\"#7201a8\"],[0.3333333333333333,\"#9c179e\"],[0.4444444444444444,\"#bd3786\"],[0.5555555555555556,\"#d8576b\"],[0.6666666666666666,\"#ed7953\"],[0.7777777777777778,\"#fb9f3a\"],[0.8888888888888888,\"#fdca26\"],[1.0,\"#f0f921\"]],\"sequentialminus\":[[0.0,\"#0d0887\"],[0.1111111111111111,\"#46039f\"],[0.2222222222222222,\"#7201a8\"],[0.3333333333333333,\"#9c179e\"],[0.4444444444444444,\"#bd3786\"],[0.5555555555555556,\"#d8576b\"],[0.6666666666666666,\"#ed7953\"],[0.7777777777777778,\"#fb9f3a\"],[0.8888888888888888,\"#fdca26\"],[1.0,\"#f0f921\"]],\"diverging\":[[0,\"#8e0152\"],[0.1,\"#c51b7d\"],[0.2,\"#de77ae\"],[0.3,\"#f1b6da\"],[0.4,\"#fde0ef\"],[0.5,\"#f7f7f7\"],[0.6,\"#e6f5d0\"],[0.7,\"#b8e186\"],[0.8,\"#7fbc41\"],[0.9,\"#4d9221\"],[1,\"#276419\"]]},\"xaxis\":{\"gridcolor\":\"white\",\"linecolor\":\"white\",\"ticks\":\"\",\"title\":{\"standoff\":15},\"zerolinecolor\":\"white\",\"automargin\":true,\"zerolinewidth\":2},\"yaxis\":{\"gridcolor\":\"white\",\"linecolor\":\"white\",\"ticks\":\"\",\"title\":{\"standoff\":15},\"zerolinecolor\":\"white\",\"automargin\":true,\"zerolinewidth\":2},\"scene\":{\"xaxis\":{\"backgroundcolor\":\"#E5ECF6\",\"gridcolor\":\"white\",\"linecolor\":\"white\",\"showbackground\":true,\"ticks\":\"\",\"zerolinecolor\":\"white\",\"gridwidth\":2},\"yaxis\":{\"backgroundcolor\":\"#E5ECF6\",\"gridcolor\":\"white\",\"linecolor\":\"white\",\"showbackground\":true,\"ticks\":\"\",\"zerolinecolor\":\"white\",\"gridwidth\":2},\"zaxis\":{\"backgroundcolor\":\"#E5ECF6\",\"gridcolor\":\"white\",\"linecolor\":\"white\",\"showbackground\":true,\"ticks\":\"\",\"zerolinecolor\":\"white\",\"gridwidth\":2}},\"shapedefaults\":{\"line\":{\"color\":\"#2a3f5f\"}},\"annotationdefaults\":{\"arrowcolor\":\"#2a3f5f\",\"arrowhead\":0,\"arrowwidth\":1},\"geo\":{\"bgcolor\":\"white\",\"landcolor\":\"#E5ECF6\",\"subunitcolor\":\"white\",\"showland\":true,\"showlakes\":true,\"lakecolor\":\"white\"},\"title\":{\"x\":0.05},\"mapbox\":{\"style\":\"light\"}}},\"legend\":{\"tracegroupgap\":0},\"title\":{\"text\":\"GPT 3.5 Da Vinci-003 ('Chat') resolution of <b>threat</b> disagreements with manual annotation\"}},                        {\"responsive\": true}                    ).then(function(){\n",
       "                            \n",
       "var gd = document.getElementById('f04e4022-722d-4d65-af9d-0ca537064dde');\n",
       "var x = new MutationObserver(function (mutations, observer) {{\n",
       "        var display = window.getComputedStyle(gd).display;\n",
       "        if (!display || display === 'none') {{\n",
       "            console.log([gd, 'removed!']);\n",
       "            Plotly.purge(gd);\n",
       "            observer.disconnect();\n",
       "        }}\n",
       "}});\n",
       "\n",
       "// Listen for the removal of the full notebook cells\n",
       "var notebookContainer = gd.closest('#notebook-container');\n",
       "if (notebookContainer) {{\n",
       "    x.observe(notebookContainer, {childList: true});\n",
       "}}\n",
       "\n",
       "// Listen for the clearing of the current output cell\n",
       "var outputEl = gd.closest('.output');\n",
       "if (outputEl) {{\n",
       "    x.observe(outputEl, {childList: true});\n",
       "}}\n",
       "\n",
       "                        })                };                });            </script>        </div>"
      ]
     },
     "metadata": {},
     "output_type": "display_data"
    }
   ],
   "source": [
    "fig = px.pie(\n",
    "    threat_disagreement_assessment,\n",
    "    names=\"assessment\",\n",
    "    title=\"GPT 3.5 Da Vinci-003 ('Chat') resolution of <b>threat</b> disagreements with manual annotation\",\n",
    ")\n",
    "fig.update_traces(hoverinfo='label+percent', textinfo='value+percent+label', textfont_size=20,)"
   ]
  },
  {
   "cell_type": "markdown",
   "id": "9f01feab",
   "metadata": {},
   "source": [
    "#### Confusion matrices: Context"
   ]
  },
  {
   "cell_type": "markdown",
   "id": "d5986710",
   "metadata": {},
   "source": [
    "Define answers only when GPT has identified the abstract as being relevant to adversarial threat"
   ]
  },
  {
   "cell_type": "code",
   "execution_count": 238,
   "id": "3fa7bfbf",
   "metadata": {},
   "outputs": [],
   "source": [
    "df_context = df_test_gpt.copy()\n",
    "df_context.loc[df_context[\"threat_pred\"] == \"Not relevant\", \"context_pred\"] = \"Not relevant\""
   ]
  },
  {
   "cell_type": "code",
   "execution_count": 239,
   "id": "01f13355",
   "metadata": {},
   "outputs": [
    {
     "data": {
      "text/plain": [
       "<sklearn.metrics._plot.confusion_matrix.ConfusionMatrixDisplay at 0x7fdf4e7e1f40>"
      ]
     },
     "execution_count": 239,
     "metadata": {},
     "output_type": "execute_result"
    },
    {
     "data": {
      "image/png": "[encoded data removed]",
      "text/plain": [
       "<Figure size 1600x1600 with 2 Axes>"
      ]
     },
     "metadata": {},
     "output_type": "display_data"
    }
   ],
   "source": [
    "labels = sorted(df_context[[\"context_1\", \"context_pred\"]].stack().unique())\n",
    "cm = confusion_matrix(df_context[\"context_1\"], df_context[\"context_pred\"], labels=labels)\n",
    "df_cm = pd.DataFrame(cm, index=labels, columns=labels)\n",
    "fig, ax = plt.subplots(1, figsize=(16, 16))\n",
    "ax.set_title(\"Confusion matrix: context\")\n",
    "ConfusionMatrixDisplay.from_predictions(df_context[\"context_1\"], df_context[\"context_pred\"], ax=ax)"
   ]
  },
  {
   "cell_type": "markdown",
   "id": "78cbbc2e",
   "metadata": {},
   "source": [
    "Rows where I disagree with GPT on primary **context** label"
   ]
  },
  {
   "cell_type": "code",
   "execution_count": 197,
   "id": "9278a327",
   "metadata": {},
   "outputs": [],
   "source": [
    "df_context_1_disagree = df_context[df_context[\"context_1\"] != df_context[\"context_pred\"]]"
   ]
  },
  {
   "cell_type": "code",
   "execution_count": 198,
   "id": "c46a1bdd",
   "metadata": {},
   "outputs": [],
   "source": [
    "context_disagreement_assessment = pd.Series(index=df_context_1_disagree.index, dtype=str, name=\"assessment\")"
   ]
  },
  {
   "cell_type": "code",
   "execution_count": 199,
   "id": "b82aff90",
   "metadata": {},
   "outputs": [
    {
     "name": "stdout",
     "output_type": "stream",
     "text": [
      "me: Robustness measures\n",
      "chatgpt: Defense\n",
      "\n",
      "Reinforcement learning (RL) is inefficient on long-horizon tasks due to sparse rewards and its policy can be fragile to slightly perturbed environments. We address these challenges via a curriculum of tasks with coupled environments, generated by two policies trained jointly with RL: (1) a co-operative planning policy recursively decomposing a hard task into a coarse-to-fine sub-task tree; and (2) an adversarial policy modifying the environment in each sub-task. They are complementary to acquire more informative feedback for RL: (1) provides dense reward of easier sub-tasks while (2) modifies sub-tasks' environments to be more challenging and diverse. Conversely, they are trained by RL's dense feedback on sub-tasks so their generated curriculum keeps adaptive to RL's progress. The sub-task tree enables an easy-to-hard curriculum for every policy: its top-down construction gradually increases sub-tasks the planner needs to generate, while the adversarial training between the environment and RL follows a bottom-up traversal that starts from a dense sequence of easier sub-tasks allowing more frequent environment changes. We compare EAT-C with RL/planning targeting similar problems and methods with environment generators or adversarial agents. Extensive experiments on diverse tasks demonstrate the advantages of our method on improving RL's efficiency and generalization. \n"
     ]
    }
   ],
   "source": [
    "ix = 15\n",
    "id_ = df_context_1_disagree.index[ix]\n",
    "print(\"me:\", df_context_1_disagree.iloc[ix][\"context_1\"])\n",
    "print(\"chatgpt:\", df_context_1_disagree.iloc[ix][\"context_pred\"])\n",
    "print()\n",
    "print(df_context_1_disagree[[\"context_1\", \"context_pred\", \"abstract\"]].iloc[ix][\"abstract\"])"
   ]
  },
  {
   "cell_type": "code",
   "execution_count": 175,
   "id": "1ebcca0b",
   "metadata": {},
   "outputs": [],
   "source": [
    "context_disagreement_assessment.loc[id_] = \"Arguable\""
   ]
  },
  {
   "cell_type": "code",
   "execution_count": 176,
   "id": "2a51a7d4",
   "metadata": {},
   "outputs": [],
   "source": [
    "#context_disagreement_assessment.to_csv(\"context_disagreement_assessment.csv\")"
   ]
  },
  {
   "cell_type": "code",
   "execution_count": 177,
   "id": "a5b393cb",
   "metadata": {},
   "outputs": [],
   "source": [
    "context_disagreement_assessment = pd.read_csv(\"context_disagreement_assessment.csv\").set_index(\"id\")"
   ]
  },
  {
   "cell_type": "markdown",
   "id": "7c362a21",
   "metadata": {},
   "source": [
    "Here, interpret \"Wrong\"/\"Correct\" as \"ChatGPT is X\"."
   ]
  },
  {
   "cell_type": "code",
   "execution_count": 178,
   "id": "eb1538f0",
   "metadata": {},
   "outputs": [
    {
     "data": {
      "application/vnd.plotly.v1+json": {
       "config": {
        "plotlyServerURL": "https://plot.ly"
       },
       "data": [
        {
         "domain": {
          "x": [
           0,
           1
          ],
          "y": [
           0,
           1
          ]
         },
         "hoverinfo": "label+percent",
         "hovertemplate": "assessment=%{label}<extra></extra>",
         "labels": [
          "Arguable",
          "Arguable",
          "Wrong",
          "Arguable",
          "Wrong",
          "Wrong",
          "Correct",
          "Wrong",
          "Wrong",
          "Arguable",
          "Wrong",
          "Wrong",
          "Wrong",
          "Arguable",
          "Arguable",
          "Arguable"
         ],
         "legendgroup": "",
         "name": "",
         "showlegend": true,
         "textfont": {
          "size": 20
         },
         "textinfo": "value+percent+label",
         "type": "pie"
        }
       ],
       "layout": {
        "legend": {
         "tracegroupgap": 0
        },
        "template": {
         "data": {
          "bar": [
           {
            "error_x": {
             "color": "#2a3f5f"
            },
            "error_y": {
             "color": "#2a3f5f"
            },
            "marker": {
             "line": {
              "color": "#E5ECF6",
              "width": 0.5
             },
             "pattern": {
              "fillmode": "overlay",
              "size": 10,
              "solidity": 0.2
             }
            },
            "type": "bar"
           }
          ],
          "barpolar": [
           {
            "marker": {
             "line": {
              "color": "#E5ECF6",
              "width": 0.5
             },
             "pattern": {
              "fillmode": "overlay",
              "size": 10,
              "solidity": 0.2
             }
            },
            "type": "barpolar"
           }
          ],
          "carpet": [
           {
            "aaxis": {
             "endlinecolor": "#2a3f5f",
             "gridcolor": "white",
             "linecolor": "white",
             "minorgridcolor": "white",
             "startlinecolor": "#2a3f5f"
            },
            "baxis": {
             "endlinecolor": "#2a3f5f",
             "gridcolor": "white",
             "linecolor": "white",
             "minorgridcolor": "white",
             "startlinecolor": "#2a3f5f"
            },
            "type": "carpet"
           }
          ],
          "choropleth": [
           {
            "colorbar": {
             "outlinewidth": 0,
             "ticks": ""
            },
            "type": "choropleth"
           }
          ],
          "contour": [
           {
            "colorbar": {
             "outlinewidth": 0,
             "ticks": ""
            },
            "colorscale": [
             [
              0,
              "#0d0887"
             ],
             [
              0.1111111111111111,
              "#46039f"
             ],
             [
              0.2222222222222222,
              "#7201a8"
             ],
             [
              0.3333333333333333,
              "#9c179e"
             ],
             [
              0.4444444444444444,
              "#bd3786"
             ],
             [
              0.5555555555555556,
              "#d8576b"
             ],
             [
              0.6666666666666666,
              "#ed7953"
             ],
             [
              0.7777777777777778,
              "#fb9f3a"
             ],
             [
              0.8888888888888888,
              "#fdca26"
             ],
             [
              1,
              "#f0f921"
             ]
            ],
            "type": "contour"
           }
          ],
          "contourcarpet": [
           {
            "colorbar": {
             "outlinewidth": 0,
             "ticks": ""
            },
            "type": "contourcarpet"
           }
          ],
          "heatmap": [
           {
            "colorbar": {
             "outlinewidth": 0,
             "ticks": ""
            },
            "colorscale": [
             [
              0,
              "#0d0887"
             ],
             [
              0.1111111111111111,
              "#46039f"
             ],
             [
              0.2222222222222222,
              "#7201a8"
             ],
             [
              0.3333333333333333,
              "#9c179e"
             ],
             [
              0.4444444444444444,
              "#bd3786"
             ],
             [
              0.5555555555555556,
              "#d8576b"
             ],
             [
              0.6666666666666666,
              "#ed7953"
             ],
             [
              0.7777777777777778,
              "#fb9f3a"
             ],
             [
              0.8888888888888888,
              "#fdca26"
             ],
             [
              1,
              "#f0f921"
             ]
            ],
            "type": "heatmap"
           }
          ],
          "heatmapgl": [
           {
            "colorbar": {
             "outlinewidth": 0,
             "ticks": ""
            },
            "colorscale": [
             [
              0,
              "#0d0887"
             ],
             [
              0.1111111111111111,
              "#46039f"
             ],
             [
              0.2222222222222222,
              "#7201a8"
             ],
             [
              0.3333333333333333,
              "#9c179e"
             ],
             [
              0.4444444444444444,
              "#bd3786"
             ],
             [
              0.5555555555555556,
              "#d8576b"
             ],
             [
              0.6666666666666666,
              "#ed7953"
             ],
             [
              0.7777777777777778,
              "#fb9f3a"
             ],
             [
              0.8888888888888888,
              "#fdca26"
             ],
             [
              1,
              "#f0f921"
             ]
            ],
            "type": "heatmapgl"
           }
          ],
          "histogram": [
           {
            "marker": {
             "pattern": {
              "fillmode": "overlay",
              "size": 10,
              "solidity": 0.2
             }
            },
            "type": "histogram"
           }
          ],
          "histogram2d": [
           {
            "colorbar": {
             "outlinewidth": 0,
             "ticks": ""
            },
            "colorscale": [
             [
              0,
              "#0d0887"
             ],
             [
              0.1111111111111111,
              "#46039f"
             ],
             [
              0.2222222222222222,
              "#7201a8"
             ],
             [
              0.3333333333333333,
              "#9c179e"
             ],
             [
              0.4444444444444444,
              "#bd3786"
             ],
             [
              0.5555555555555556,
              "#d8576b"
             ],
             [
              0.6666666666666666,
              "#ed7953"
             ],
             [
              0.7777777777777778,
              "#fb9f3a"
             ],
             [
              0.8888888888888888,
              "#fdca26"
             ],
             [
              1,
              "#f0f921"
             ]
            ],
            "type": "histogram2d"
           }
          ],
          "histogram2dcontour": [
           {
            "colorbar": {
             "outlinewidth": 0,
             "ticks": ""
            },
            "colorscale": [
             [
              0,
              "#0d0887"
             ],
             [
              0.1111111111111111,
              "#46039f"
             ],
             [
              0.2222222222222222,
              "#7201a8"
             ],
             [
              0.3333333333333333,
              "#9c179e"
             ],
             [
              0.4444444444444444,
              "#bd3786"
             ],
             [
              0.5555555555555556,
              "#d8576b"
             ],
             [
              0.6666666666666666,
              "#ed7953"
             ],
             [
              0.7777777777777778,
              "#fb9f3a"
             ],
             [
              0.8888888888888888,
              "#fdca26"
             ],
             [
              1,
              "#f0f921"
             ]
            ],
            "type": "histogram2dcontour"
           }
          ],
          "mesh3d": [
           {
            "colorbar": {
             "outlinewidth": 0,
             "ticks": ""
            },
            "type": "mesh3d"
           }
          ],
          "parcoords": [
           {
            "line": {
             "colorbar": {
              "outlinewidth": 0,
              "ticks": ""
             }
            },
            "type": "parcoords"
           }
          ],
          "pie": [
           {
            "automargin": true,
            "type": "pie"
           }
          ],
          "scatter": [
           {
            "fillpattern": {
             "fillmode": "overlay",
             "size": 10,
             "solidity": 0.2
            },
            "type": "scatter"
           }
          ],
          "scatter3d": [
           {
            "line": {
             "colorbar": {
              "outlinewidth": 0,
              "ticks": ""
             }
            },
            "marker": {
             "colorbar": {
              "outlinewidth": 0,
              "ticks": ""
             }
            },
            "type": "scatter3d"
           }
          ],
          "scattercarpet": [
           {
            "marker": {
             "colorbar": {
              "outlinewidth": 0,
              "ticks": ""
             }
            },
            "type": "scattercarpet"
           }
          ],
          "scattergeo": [
           {
            "marker": {
             "colorbar": {
              "outlinewidth": 0,
              "ticks": ""
             }
            },
            "type": "scattergeo"
           }
          ],
          "scattergl": [
           {
            "marker": {
             "colorbar": {
              "outlinewidth": 0,
              "ticks": ""
             }
            },
            "type": "scattergl"
           }
          ],
          "scattermapbox": [
           {
            "marker": {
             "colorbar": {
              "outlinewidth": 0,
              "ticks": ""
             }
            },
            "type": "scattermapbox"
           }
          ],
          "scatterpolar": [
           {
            "marker": {
             "colorbar": {
              "outlinewidth": 0,
              "ticks": ""
             }
            },
            "type": "scatterpolar"
           }
          ],
          "scatterpolargl": [
           {
            "marker": {
             "colorbar": {
              "outlinewidth": 0,
              "ticks": ""
             }
            },
            "type": "scatterpolargl"
           }
          ],
          "scatterternary": [
           {
            "marker": {
             "colorbar": {
              "outlinewidth": 0,
              "ticks": ""
             }
            },
            "type": "scatterternary"
           }
          ],
          "surface": [
           {
            "colorbar": {
             "outlinewidth": 0,
             "ticks": ""
            },
            "colorscale": [
             [
              0,
              "#0d0887"
             ],
             [
              0.1111111111111111,
              "#46039f"
             ],
             [
              0.2222222222222222,
              "#7201a8"
             ],
             [
              0.3333333333333333,
              "#9c179e"
             ],
             [
              0.4444444444444444,
              "#bd3786"
             ],
             [
              0.5555555555555556,
              "#d8576b"
             ],
             [
              0.6666666666666666,
              "#ed7953"
             ],
             [
              0.7777777777777778,
              "#fb9f3a"
             ],
             [
              0.8888888888888888,
              "#fdca26"
             ],
             [
              1,
              "#f0f921"
             ]
            ],
            "type": "surface"
           }
          ],
          "table": [
           {
            "cells": {
             "fill": {
              "color": "#EBF0F8"
             },
             "line": {
              "color": "white"
             }
            },
            "header": {
             "fill": {
              "color": "#C8D4E3"
             },
             "line": {
              "color": "white"
             }
            },
            "type": "table"
           }
          ]
         },
         "layout": {
          "annotationdefaults": {
           "arrowcolor": "#2a3f5f",
           "arrowhead": 0,
           "arrowwidth": 1
          },
          "autotypenumbers": "strict",
          "coloraxis": {
           "colorbar": {
            "outlinewidth": 0,
            "ticks": ""
           }
          },
          "colorscale": {
           "diverging": [
            [
             0,
             "#8e0152"
            ],
            [
             0.1,
             "#c51b7d"
            ],
            [
             0.2,
             "#de77ae"
            ],
            [
             0.3,
             "#f1b6da"
            ],
            [
             0.4,
             "#fde0ef"
            ],
            [
             0.5,
             "#f7f7f7"
            ],
            [
             0.6,
             "#e6f5d0"
            ],
            [
             0.7,
             "#b8e186"
            ],
            [
             0.8,
             "#7fbc41"
            ],
            [
             0.9,
             "#4d9221"
            ],
            [
             1,
             "#276419"
            ]
           ],
           "sequential": [
            [
             0,
             "#0d0887"
            ],
            [
             0.1111111111111111,
             "#46039f"
            ],
            [
             0.2222222222222222,
             "#7201a8"
            ],
            [
             0.3333333333333333,
             "#9c179e"
            ],
            [
             0.4444444444444444,
             "#bd3786"
            ],
            [
             0.5555555555555556,
             "#d8576b"
            ],
            [
             0.6666666666666666,
             "#ed7953"
            ],
            [
             0.7777777777777778,
             "#fb9f3a"
            ],
            [
             0.8888888888888888,
             "#fdca26"
            ],
            [
             1,
             "#f0f921"
            ]
           ],
           "sequentialminus": [
            [
             0,
             "#0d0887"
            ],
            [
             0.1111111111111111,
             "#46039f"
            ],
            [
             0.2222222222222222,
             "#7201a8"
            ],
            [
             0.3333333333333333,
             "#9c179e"
            ],
            [
             0.4444444444444444,
             "#bd3786"
            ],
            [
             0.5555555555555556,
             "#d8576b"
            ],
            [
             0.6666666666666666,
             "#ed7953"
            ],
            [
             0.7777777777777778,
             "#fb9f3a"
            ],
            [
             0.8888888888888888,
             "#fdca26"
            ],
            [
             1,
             "#f0f921"
            ]
           ]
          },
          "colorway": [
           "#636efa",
           "#EF553B",
           "#00cc96",
           "#ab63fa",
           "#FFA15A",
           "#19d3f3",
           "#FF6692",
           "#B6E880",
           "#FF97FF",
           "#FECB52"
          ],
          "font": {
           "color": "#2a3f5f"
          },
          "geo": {
           "bgcolor": "white",
           "lakecolor": "white",
           "landcolor": "#E5ECF6",
           "showlakes": true,
           "showland": true,
           "subunitcolor": "white"
          },
          "hoverlabel": {
           "align": "left"
          },
          "hovermode": "closest",
          "mapbox": {
           "style": "light"
          },
          "paper_bgcolor": "white",
          "plot_bgcolor": "#E5ECF6",
          "polar": {
           "angularaxis": {
            "gridcolor": "white",
            "linecolor": "white",
            "ticks": ""
           },
           "bgcolor": "#E5ECF6",
           "radialaxis": {
            "gridcolor": "white",
            "linecolor": "white",
            "ticks": ""
           }
          },
          "scene": {
           "xaxis": {
            "backgroundcolor": "#E5ECF6",
            "gridcolor": "white",
            "gridwidth": 2,
            "linecolor": "white",
            "showbackground": true,
            "ticks": "",
            "zerolinecolor": "white"
           },
           "yaxis": {
            "backgroundcolor": "#E5ECF6",
            "gridcolor": "white",
            "gridwidth": 2,
            "linecolor": "white",
            "showbackground": true,
            "ticks": "",
            "zerolinecolor": "white"
           },
           "zaxis": {
            "backgroundcolor": "#E5ECF6",
            "gridcolor": "white",
            "gridwidth": 2,
            "linecolor": "white",
            "showbackground": true,
            "ticks": "",
            "zerolinecolor": "white"
           }
          },
          "shapedefaults": {
           "line": {
            "color": "#2a3f5f"
           }
          },
          "ternary": {
           "aaxis": {
            "gridcolor": "white",
            "linecolor": "white",
            "ticks": ""
           },
           "baxis": {
            "gridcolor": "white",
            "linecolor": "white",
            "ticks": ""
           },
           "bgcolor": "#E5ECF6",
           "caxis": {
            "gridcolor": "white",
            "linecolor": "white",
            "ticks": ""
           }
          },
          "title": {
           "x": 0.05
          },
          "xaxis": {
           "automargin": true,
           "gridcolor": "white",
           "linecolor": "white",
           "ticks": "",
           "title": {
            "standoff": 15
           },
           "zerolinecolor": "white",
           "zerolinewidth": 2
          },
          "yaxis": {
           "automargin": true,
           "gridcolor": "white",
           "linecolor": "white",
           "ticks": "",
           "title": {
            "standoff": 15
           },
           "zerolinecolor": "white",
           "zerolinewidth": 2
          }
         }
        },
        "title": {
         "text": "GPT 3.5 Da Vinci-003 ('Chat') resolution of <b>context</b> disagreements with manual annotation"
        }
       }
      },
      "text/html": [
       "<div>                            <div id=\"adbab269-3701-4695-9812-2d6f9c9d5a2c\" class=\"plotly-graph-div\" style=\"height:525px; width:100%;\"></div>            <script type=\"text/javascript\">                require([\"plotly\"], function(Plotly) {                    window.PLOTLYENV=window.PLOTLYENV || {};                                    if (document.getElementById(\"adbab269-3701-4695-9812-2d6f9c9d5a2c\")) {                    Plotly.newPlot(                        \"adbab269-3701-4695-9812-2d6f9c9d5a2c\",                        [{\"domain\":{\"x\":[0.0,1.0],\"y\":[0.0,1.0]},\"hovertemplate\":\"assessment=%{label}<extra></extra>\",\"labels\":[\"Arguable\",\"Arguable\",\"Wrong\",\"Arguable\",\"Wrong\",\"Wrong\",\"Correct\",\"Wrong\",\"Wrong\",\"Arguable\",\"Wrong\",\"Wrong\",\"Wrong\",\"Arguable\",\"Arguable\",\"Arguable\"],\"legendgroup\":\"\",\"name\":\"\",\"showlegend\":true,\"type\":\"pie\",\"textfont\":{\"size\":20},\"hoverinfo\":\"label+percent\",\"textinfo\":\"value+percent+label\"}],                        {\"template\":{\"data\":{\"histogram2dcontour\":[{\"type\":\"histogram2dcontour\",\"colorbar\":{\"outlinewidth\":0,\"ticks\":\"\"},\"colorscale\":[[0.0,\"#0d0887\"],[0.1111111111111111,\"#46039f\"],[0.2222222222222222,\"#7201a8\"],[0.3333333333333333,\"#9c179e\"],[0.4444444444444444,\"#bd3786\"],[0.5555555555555556,\"#d8576b\"],[0.6666666666666666,\"#ed7953\"],[0.7777777777777778,\"#fb9f3a\"],[0.8888888888888888,\"#fdca26\"],[1.0,\"#f0f921\"]]}],\"choropleth\":[{\"type\":\"choropleth\",\"colorbar\":{\"outlinewidth\":0,\"ticks\":\"\"}}],\"histogram2d\":[{\"type\":\"histogram2d\",\"colorbar\":{\"outlinewidth\":0,\"ticks\":\"\"},\"colorscale\":[[0.0,\"#0d0887\"],[0.1111111111111111,\"#46039f\"],[0.2222222222222222,\"#7201a8\"],[0.3333333333333333,\"#9c179e\"],[0.4444444444444444,\"#bd3786\"],[0.5555555555555556,\"#d8576b\"],[0.6666666666666666,\"#ed7953\"],[0.7777777777777778,\"#fb9f3a\"],[0.8888888888888888,\"#fdca26\"],[1.0,\"#f0f921\"]]}],\"heatmap\":[{\"type\":\"heatmap\",\"colorbar\":{\"outlinewidth\":0,\"ticks\":\"\"},\"colorscale\":[[0.0,\"#0d0887\"],[0.1111111111111111,\"#46039f\"],[0.2222222222222222,\"#7201a8\"],[0.3333333333333333,\"#9c179e\"],[0.4444444444444444,\"#bd3786\"],[0.5555555555555556,\"#d8576b\"],[0.6666666666666666,\"#ed7953\"],[0.7777777777777778,\"#fb9f3a\"],[0.8888888888888888,\"#fdca26\"],[1.0,\"#f0f921\"]]}],\"heatmapgl\":[{\"type\":\"heatmapgl\",\"colorbar\":{\"outlinewidth\":0,\"ticks\":\"\"},\"colorscale\":[[0.0,\"#0d0887\"],[0.1111111111111111,\"#46039f\"],[0.2222222222222222,\"#7201a8\"],[0.3333333333333333,\"#9c179e\"],[0.4444444444444444,\"#bd3786\"],[0.5555555555555556,\"#d8576b\"],[0.6666666666666666,\"#ed7953\"],[0.7777777777777778,\"#fb9f3a\"],[0.8888888888888888,\"#fdca26\"],[1.0,\"#f0f921\"]]}],\"contourcarpet\":[{\"type\":\"contourcarpet\",\"colorbar\":{\"outlinewidth\":0,\"ticks\":\"\"}}],\"contour\":[{\"type\":\"contour\",\"colorbar\":{\"outlinewidth\":0,\"ticks\":\"\"},\"colorscale\":[[0.0,\"#0d0887\"],[0.1111111111111111,\"#46039f\"],[0.2222222222222222,\"#7201a8\"],[0.3333333333333333,\"#9c179e\"],[0.4444444444444444,\"#bd3786\"],[0.5555555555555556,\"#d8576b\"],[0.6666666666666666,\"#ed7953\"],[0.7777777777777778,\"#fb9f3a\"],[0.8888888888888888,\"#fdca26\"],[1.0,\"#f0f921\"]]}],\"surface\":[{\"type\":\"surface\",\"colorbar\":{\"outlinewidth\":0,\"ticks\":\"\"},\"colorscale\":[[0.0,\"#0d0887\"],[0.1111111111111111,\"#46039f\"],[0.2222222222222222,\"#7201a8\"],[0.3333333333333333,\"#9c179e\"],[0.4444444444444444,\"#bd3786\"],[0.5555555555555556,\"#d8576b\"],[0.6666666666666666,\"#ed7953\"],[0.7777777777777778,\"#fb9f3a\"],[0.8888888888888888,\"#fdca26\"],[1.0,\"#f0f921\"]]}],\"mesh3d\":[{\"type\":\"mesh3d\",\"colorbar\":{\"outlinewidth\":0,\"ticks\":\"\"}}],\"scatter\":[{\"fillpattern\":{\"fillmode\":\"overlay\",\"size\":10,\"solidity\":0.2},\"type\":\"scatter\"}],\"parcoords\":[{\"type\":\"parcoords\",\"line\":{\"colorbar\":{\"outlinewidth\":0,\"ticks\":\"\"}}}],\"scatterpolargl\":[{\"type\":\"scatterpolargl\",\"marker\":{\"colorbar\":{\"outlinewidth\":0,\"ticks\":\"\"}}}],\"bar\":[{\"error_x\":{\"color\":\"#2a3f5f\"},\"error_y\":{\"color\":\"#2a3f5f\"},\"marker\":{\"line\":{\"color\":\"#E5ECF6\",\"width\":0.5},\"pattern\":{\"fillmode\":\"overlay\",\"size\":10,\"solidity\":0.2}},\"type\":\"bar\"}],\"scattergeo\":[{\"type\":\"scattergeo\",\"marker\":{\"colorbar\":{\"outlinewidth\":0,\"ticks\":\"\"}}}],\"scatterpolar\":[{\"type\":\"scatterpolar\",\"marker\":{\"colorbar\":{\"outlinewidth\":0,\"ticks\":\"\"}}}],\"histogram\":[{\"marker\":{\"pattern\":{\"fillmode\":\"overlay\",\"size\":10,\"solidity\":0.2}},\"type\":\"histogram\"}],\"scattergl\":[{\"type\":\"scattergl\",\"marker\":{\"colorbar\":{\"outlinewidth\":0,\"ticks\":\"\"}}}],\"scatter3d\":[{\"type\":\"scatter3d\",\"line\":{\"colorbar\":{\"outlinewidth\":0,\"ticks\":\"\"}},\"marker\":{\"colorbar\":{\"outlinewidth\":0,\"ticks\":\"\"}}}],\"scattermapbox\":[{\"type\":\"scattermapbox\",\"marker\":{\"colorbar\":{\"outlinewidth\":0,\"ticks\":\"\"}}}],\"scatterternary\":[{\"type\":\"scatterternary\",\"marker\":{\"colorbar\":{\"outlinewidth\":0,\"ticks\":\"\"}}}],\"scattercarpet\":[{\"type\":\"scattercarpet\",\"marker\":{\"colorbar\":{\"outlinewidth\":0,\"ticks\":\"\"}}}],\"carpet\":[{\"aaxis\":{\"endlinecolor\":\"#2a3f5f\",\"gridcolor\":\"white\",\"linecolor\":\"white\",\"minorgridcolor\":\"white\",\"startlinecolor\":\"#2a3f5f\"},\"baxis\":{\"endlinecolor\":\"#2a3f5f\",\"gridcolor\":\"white\",\"linecolor\":\"white\",\"minorgridcolor\":\"white\",\"startlinecolor\":\"#2a3f5f\"},\"type\":\"carpet\"}],\"table\":[{\"cells\":{\"fill\":{\"color\":\"#EBF0F8\"},\"line\":{\"color\":\"white\"}},\"header\":{\"fill\":{\"color\":\"#C8D4E3\"},\"line\":{\"color\":\"white\"}},\"type\":\"table\"}],\"barpolar\":[{\"marker\":{\"line\":{\"color\":\"#E5ECF6\",\"width\":0.5},\"pattern\":{\"fillmode\":\"overlay\",\"size\":10,\"solidity\":0.2}},\"type\":\"barpolar\"}],\"pie\":[{\"automargin\":true,\"type\":\"pie\"}]},\"layout\":{\"autotypenumbers\":\"strict\",\"colorway\":[\"#636efa\",\"#EF553B\",\"#00cc96\",\"#ab63fa\",\"#FFA15A\",\"#19d3f3\",\"#FF6692\",\"#B6E880\",\"#FF97FF\",\"#FECB52\"],\"font\":{\"color\":\"#2a3f5f\"},\"hovermode\":\"closest\",\"hoverlabel\":{\"align\":\"left\"},\"paper_bgcolor\":\"white\",\"plot_bgcolor\":\"#E5ECF6\",\"polar\":{\"bgcolor\":\"#E5ECF6\",\"angularaxis\":{\"gridcolor\":\"white\",\"linecolor\":\"white\",\"ticks\":\"\"},\"radialaxis\":{\"gridcolor\":\"white\",\"linecolor\":\"white\",\"ticks\":\"\"}},\"ternary\":{\"bgcolor\":\"#E5ECF6\",\"aaxis\":{\"gridcolor\":\"white\",\"linecolor\":\"white\",\"ticks\":\"\"},\"baxis\":{\"gridcolor\":\"white\",\"linecolor\":\"white\",\"ticks\":\"\"},\"caxis\":{\"gridcolor\":\"white\",\"linecolor\":\"white\",\"ticks\":\"\"}},\"coloraxis\":{\"colorbar\":{\"outlinewidth\":0,\"ticks\":\"\"}},\"colorscale\":{\"sequential\":[[0.0,\"#0d0887\"],[0.1111111111111111,\"#46039f\"],[0.2222222222222222,\"#7201a8\"],[0.3333333333333333,\"#9c179e\"],[0.4444444444444444,\"#bd3786\"],[0.5555555555555556,\"#d8576b\"],[0.6666666666666666,\"#ed7953\"],[0.7777777777777778,\"#fb9f3a\"],[0.8888888888888888,\"#fdca26\"],[1.0,\"#f0f921\"]],\"sequentialminus\":[[0.0,\"#0d0887\"],[0.1111111111111111,\"#46039f\"],[0.2222222222222222,\"#7201a8\"],[0.3333333333333333,\"#9c179e\"],[0.4444444444444444,\"#bd3786\"],[0.5555555555555556,\"#d8576b\"],[0.6666666666666666,\"#ed7953\"],[0.7777777777777778,\"#fb9f3a\"],[0.8888888888888888,\"#fdca26\"],[1.0,\"#f0f921\"]],\"diverging\":[[0,\"#8e0152\"],[0.1,\"#c51b7d\"],[0.2,\"#de77ae\"],[0.3,\"#f1b6da\"],[0.4,\"#fde0ef\"],[0.5,\"#f7f7f7\"],[0.6,\"#e6f5d0\"],[0.7,\"#b8e186\"],[0.8,\"#7fbc41\"],[0.9,\"#4d9221\"],[1,\"#276419\"]]},\"xaxis\":{\"gridcolor\":\"white\",\"linecolor\":\"white\",\"ticks\":\"\",\"title\":{\"standoff\":15},\"zerolinecolor\":\"white\",\"automargin\":true,\"zerolinewidth\":2},\"yaxis\":{\"gridcolor\":\"white\",\"linecolor\":\"white\",\"ticks\":\"\",\"title\":{\"standoff\":15},\"zerolinecolor\":\"white\",\"automargin\":true,\"zerolinewidth\":2},\"scene\":{\"xaxis\":{\"backgroundcolor\":\"#E5ECF6\",\"gridcolor\":\"white\",\"linecolor\":\"white\",\"showbackground\":true,\"ticks\":\"\",\"zerolinecolor\":\"white\",\"gridwidth\":2},\"yaxis\":{\"backgroundcolor\":\"#E5ECF6\",\"gridcolor\":\"white\",\"linecolor\":\"white\",\"showbackground\":true,\"ticks\":\"\",\"zerolinecolor\":\"white\",\"gridwidth\":2},\"zaxis\":{\"backgroundcolor\":\"#E5ECF6\",\"gridcolor\":\"white\",\"linecolor\":\"white\",\"showbackground\":true,\"ticks\":\"\",\"zerolinecolor\":\"white\",\"gridwidth\":2}},\"shapedefaults\":{\"line\":{\"color\":\"#2a3f5f\"}},\"annotationdefaults\":{\"arrowcolor\":\"#2a3f5f\",\"arrowhead\":0,\"arrowwidth\":1},\"geo\":{\"bgcolor\":\"white\",\"landcolor\":\"#E5ECF6\",\"subunitcolor\":\"white\",\"showland\":true,\"showlakes\":true,\"lakecolor\":\"white\"},\"title\":{\"x\":0.05},\"mapbox\":{\"style\":\"light\"}}},\"legend\":{\"tracegroupgap\":0},\"title\":{\"text\":\"GPT 3.5 Da Vinci-003 ('Chat') resolution of <b>context</b> disagreements with manual annotation\"}},                        {\"responsive\": true}                    ).then(function(){\n",
       "                            \n",
       "var gd = document.getElementById('adbab269-3701-4695-9812-2d6f9c9d5a2c');\n",
       "var x = new MutationObserver(function (mutations, observer) {{\n",
       "        var display = window.getComputedStyle(gd).display;\n",
       "        if (!display || display === 'none') {{\n",
       "            console.log([gd, 'removed!']);\n",
       "            Plotly.purge(gd);\n",
       "            observer.disconnect();\n",
       "        }}\n",
       "}});\n",
       "\n",
       "// Listen for the removal of the full notebook cells\n",
       "var notebookContainer = gd.closest('#notebook-container');\n",
       "if (notebookContainer) {{\n",
       "    x.observe(notebookContainer, {childList: true});\n",
       "}}\n",
       "\n",
       "// Listen for the clearing of the current output cell\n",
       "var outputEl = gd.closest('.output');\n",
       "if (outputEl) {{\n",
       "    x.observe(outputEl, {childList: true});\n",
       "}}\n",
       "\n",
       "                        })                };                });            </script>        </div>"
      ]
     },
     "metadata": {},
     "output_type": "display_data"
    }
   ],
   "source": [
    "fig = px.pie(\n",
    "    context_disagreement_assessment,\n",
    "    names=\"assessment\",\n",
    "    title=\"GPT 3.5 Da Vinci-003 ('Chat') resolution of <b>context</b> disagreements with manual annotation\",\n",
    ")\n",
    "fig.update_traces(hoverinfo='label+percent', textinfo='value+percent+label', textfont_size=20,)"
   ]
  },
  {
   "cell_type": "markdown",
   "id": "6f73f18b",
   "metadata": {},
   "source": [
    "### Consolidate everything into a dataframe to write to spreadsheet"
   ]
  },
  {
   "cell_type": "markdown",
   "id": "db2c249b",
   "metadata": {},
   "source": [
    "Examples without ground truth:"
   ]
  },
  {
   "cell_type": "code",
   "execution_count": 251,
   "id": "ace147ac",
   "metadata": {},
   "outputs": [],
   "source": [
    "# join model output to scraped data\n",
    "df_output = pd.merge(\n",
    "    df_icml_abs,\n",
    "    df_ans_unlabeled.drop(\"response\", axis=1),\n",
    "    left_on=\"id\",\n",
    "    right_on=\"id\",\n",
    "    how=\"inner\"\n",
    ").set_index(\"id\")\n",
    "\n",
    "# apply aliases\n",
    "df_output[\"threat_pred\"] = df_output[\"threat_pred\"].replace(threats_short, regex=True)\n",
    "df_output[\"context_pred\"] = df_output[\"context_pred\"].replace(contexts_short, regex=True)\n",
    "\n",
    "# clean few mangled answers\n",
    "fix_threat = {\n",
    "    \"Addressing model bias\" : \"Bias\",\n",
    "    \"Data poisoning attack\" : \"Poisoning\",\n",
    "    \"Specific adversarial defense methods\" : \"Not relevant\",\n",
    "    # question got mangled in with answer twice\n",
    "    \"\\('Robustness'\\)\": \"Robustness\"\n",
    "}\n",
    "df_output[\"threat_pred\"] = df_output[\"threat_pred\"].replace(fix_threat, regex=True)\n",
    "\n",
    "fix_context = {\n",
    "    \"\\('Robustness measures'\\)\" : \"Robustness measures\",\n",
    "}\n",
    "df_output[\"context_pred\"] = df_output[\"context_pred\"].replace(fix_context, regex=True)\n",
    "\n",
    "# make sure context not defined if no adversarial threat defined\n",
    "df_output.loc[df_output[\"threat_pred\"] == \"Not relevant\", \"context_pred\"] = \"Not relevant\"\n",
    "df_output.loc[df_output[\"threat_pred\"] == \"Not relevant\", \"techniques_pred\"] = \"None\"\n",
    "\n",
    "# add labelled test examples back\n",
    "df_output = pd.concat([df_output, df_context])"
   ]
  },
  {
   "cell_type": "code",
   "execution_count": 252,
   "id": "3c2f5d22",
   "metadata": {},
   "outputs": [],
   "source": [
    "df_output.to_csv(\"icml_output.csv\")"
   ]
  },
  {
   "cell_type": "code",
   "execution_count": null,
   "id": "0bd68461",
   "metadata": {},
   "outputs": [],
   "source": []
  },
  {
   "cell_type": "markdown",
   "id": "0dc59ab3",
   "metadata": {},
   "source": [
    "# Throw all this away, nothing else is nearly as good"
   ]
  },
  {
   "cell_type": "markdown",
   "id": "c0ef0834",
   "metadata": {},
   "source": [
    "## Zero-shot classification"
   ]
  },
  {
   "cell_type": "markdown",
   "id": "dfd5aeb4",
   "metadata": {},
   "source": [
    "Flush VRAM"
   ]
  },
  {
   "cell_type": "code",
   "execution_count": null,
   "id": "b2cddce6",
   "metadata": {},
   "outputs": [],
   "source": [
    "import gc\n",
    "\n",
    "try:\n",
    "    del model\n",
    "except NameError:\n",
    "    pass\n",
    "try:\n",
    "    del classifier\n",
    "except NameError: \n",
    "    pass\n",
    "with torch.no_grad():\n",
    "    torch.cuda.empty_cache()\n",
    "gc.collect()"
   ]
  },
  {
   "cell_type": "code",
   "execution_count": null,
   "id": "4dade8aa",
   "metadata": {},
   "outputs": [],
   "source": [
    "base = \"1.3b\"\n",
    "standard = \"6.7b\"\n",
    "\n",
    "model = \"facebook/bart-large-mnli\"\n",
    "model = f\"facebook/galactica-{base}\"\n",
    "\n",
    "classifier = pipeline(\"zero-shot-classification\",\n",
    "                     model=model,\n",
    "                     device=0)"
   ]
  },
  {
   "cell_type": "markdown",
   "id": "896d32d2",
   "metadata": {},
   "source": [
    "### Predict Threat"
   ]
  },
  {
   "cell_type": "code",
   "execution_count": null,
   "id": "5379a6ca",
   "metadata": {},
   "outputs": [],
   "source": [
    "threat_labels = df_iclr[\"Threat\"].unique()\n",
    "print(\"candidate label s are: \", threat_labels)"
   ]
  },
  {
   "cell_type": "markdown",
   "id": "1566e609",
   "metadata": {},
   "source": [
    "Try different threat labels"
   ]
  },
  {
   "cell_type": "code",
   "execution_count": null,
   "id": "fa78dab7",
   "metadata": {},
   "outputs": [],
   "source": [
    "threat_labels = [\"Model extraction attack\", \"Poisoning attack\", \"Data extraction attack\", \"Lack of robustness\", \"Adversarial attack\"]\n",
    "print(\"candidate label s are: \", threat_labels)"
   ]
  },
  {
   "cell_type": "code",
   "execution_count": null,
   "id": "a7c085a4",
   "metadata": {},
   "outputs": [],
   "source": [
    "pd.Series(index=df_test[\"abstract\"].index, data=\"\")"
   ]
  },
  {
   "cell_type": "code",
   "execution_count": null,
   "id": "a6f9d544",
   "metadata": {},
   "outputs": [],
   "source": [
    "def rule_based_classifier(\n",
    "    abstracts: pd.Series,\n",
    "    rules: dict[str, str] = None\n",
    ") -> pd.Series:\n",
    "    if rules is None:\n",
    "        rules = {\n",
    "            \"model extraction\": \"Model extraction attack\",\n",
    "            \"poisoning\": \"Poisoning attack\",\n",
    "            \"data extraction\": \"Data extraction attack\",\n",
    "            \"adversarial (noise|perturbation)\": \"Adversarial attack\"\n",
    "        }\n",
    "    output = pd.Series(index=abstracts.index, data=\"\")\n",
    "    for keyword, label in rules.items():\n",
    "        output = output + abstracts.str.contains(keyword) * label\n",
    "    return output"
   ]
  },
  {
   "cell_type": "code",
   "execution_count": null,
   "id": "41401418",
   "metadata": {},
   "outputs": [],
   "source": [
    "rule_based_classifier(df_test[\"abstract\"])"
   ]
  },
  {
   "cell_type": "code",
   "execution_count": null,
   "id": "db624eb1",
   "metadata": {},
   "outputs": [],
   "source": [
    "dataset = Dataset.from_pandas(df_test)\n",
    "dataset.set_format(\"torch\")\n",
    "\n",
    "pred_threats = classifier(dataset[\"abstract\"], threat_labels, multi_label=True)\n",
    "\n",
    "df_pred_threats = (\n",
    "    pd.concat(\n",
    "        [pd.Series(data=t[\"scores\"], index=t[\"labels\"]) for t in pred_threats],\n",
    "        axis=1\n",
    "    ).T\n",
    "    #.set_index(df_test.index)\n",
    ")\n",
    "df_test = pd.concat([df_test, df_pred_threats], axis=1)"
   ]
  },
  {
   "cell_type": "code",
   "execution_count": null,
   "id": "0f86e2e4",
   "metadata": {},
   "outputs": [],
   "source": [
    "df = df_test[[\"title\", \"abstract\", \"id\", \"threat_1\", \"threat_2\", *df_test.columns[-5:]]].head()"
   ]
  },
  {
   "cell_type": "code",
   "execution_count": null,
   "id": "51a128ea",
   "metadata": {},
   "outputs": [],
   "source": [
    "df"
   ]
  },
  {
   "cell_type": "code",
   "execution_count": null,
   "id": "82e7e564",
   "metadata": {},
   "outputs": [],
   "source": [
    "df.iloc[:, -5:].T.rank(ascending=False)"
   ]
  },
  {
   "cell_type": "code",
   "execution_count": null,
   "id": "162e5a97",
   "metadata": {},
   "outputs": [],
   "source": [
    "(df_pred_threats.max(axis=1) > 0.5).sum()"
   ]
  },
  {
   "cell_type": "markdown",
   "id": "e4f5f235",
   "metadata": {},
   "source": [
    "### Predict Context"
   ]
  },
  {
   "cell_type": "code",
   "execution_count": null,
   "id": "3ef42aec",
   "metadata": {},
   "outputs": [],
   "source": [
    "context_labels = ['Defense', 'Attacks', 'Bias', 'Robustness measures']\n",
    "print(\"candidate label s are: \", context_labels)"
   ]
  },
  {
   "cell_type": "code",
   "execution_count": null,
   "id": "e0fdb052",
   "metadata": {},
   "outputs": [],
   "source": [
    "pred_context = classifier(dataset[\"abstract\"], context_labels, multi_label=True)\n",
    "df_pred_context = (\n",
    "    pd.concat(\n",
    "        [pd.Series(data=t[\"scores\"], index=t[\"labels\"]) for t in pred_context],\n",
    "        axis=1\n",
    "    ).T\n",
    "    .set_index(df_icml_abs.index)\n",
    ")\n",
    "df_icml = df_icml.join(df_pred_context)"
   ]
  },
  {
   "cell_type": "code",
   "execution_count": null,
   "id": "f596b5fc",
   "metadata": {},
   "outputs": [],
   "source": [
    "df_icml.to_csv(data_dir/\"ICML_ZSC.csv\")"
   ]
  },
  {
   "cell_type": "markdown",
   "id": "9cff00cd",
   "metadata": {},
   "source": [
    "## Few-shot classification"
   ]
  },
  {
   "cell_type": "markdown",
   "id": "c87f5dee",
   "metadata": {},
   "source": [
    "https://github.com/Pandora-Intelligence/classy-classification"
   ]
  },
  {
   "cell_type": "code",
   "execution_count": null,
   "id": "f9980ea0",
   "metadata": {},
   "outputs": [],
   "source": [
    "import spacy\n",
    "import classy_classification\n",
    "\n",
    "data = {\n",
    "    \"furniture\": [\"This text is about chairs.\",\n",
    "               \"Couches, benches and televisions.\",\n",
    "               \"I really need to get a new sofa.\"],\n",
    "    \"kitchen\": [\"There also exist things like fridges.\",\n",
    "                \"I hope to be getting a new stove today.\",\n",
    "                \"Do you also have some ovens.\"]\n",
    "}\n",
    "\n",
    "nlp = spacy.blank(\"en\")\n",
    "nlp.add_pipe(\n",
    "    \"text_categorizer\",\n",
    "    config={\n",
    "        \"data\": data,\n",
    "        \"model\": \"sentence-transformers/paraphrase-multilingual-MiniLM-L12-v2\",\n",
    "        \"device\": \"gpu\"\n",
    "    }\n",
    ")\n",
    "\n",
    "print(nlp(\"I am looking for kitchen appliances.\")._.cats)\n",
    "\n",
    "# Output:\n",
    "#\n",
    "# [{\"label\": \"furniture\", \"score\": 0.21}, {\"label\": \"kitchen\", \"score\": 0.79}]"
   ]
  },
  {
   "cell_type": "markdown",
   "id": "749df603",
   "metadata": {},
   "source": [
    "## Classification with natural language prompt (Galactica)"
   ]
  },
  {
   "cell_type": "code",
   "execution_count": null,
   "id": "7cae6134",
   "metadata": {},
   "outputs": [],
   "source": []
  },
  {
   "cell_type": "markdown",
   "id": "9467193f",
   "metadata": {},
   "source": [
    "## Technique"
   ]
  },
  {
   "cell_type": "markdown",
   "id": "956598a0",
   "metadata": {},
   "source": [
    "Flair NER?"
   ]
  },
  {
   "cell_type": "markdown",
   "id": "c8dbc0ee",
   "metadata": {},
   "source": [
    "### Load"
   ]
  },
  {
   "cell_type": "code",
   "execution_count": null,
   "id": "e4b988c2",
   "metadata": {},
   "outputs": [],
   "source": [
    "df_icml = pd.read_csv(data_dir/\"ICML_ZSC.csv\", index_col=0)"
   ]
  },
  {
   "cell_type": "code",
   "execution_count": null,
   "id": "51c4e3db",
   "metadata": {},
   "outputs": [],
   "source": [
    "df_icml[[\"Robustness\", \"Evasion\", \"Model Extraction\", \"Data Extraction\", \"Poisoning\"]]"
   ]
  },
  {
   "cell_type": "code",
   "execution_count": null,
   "id": "110314da",
   "metadata": {},
   "outputs": [],
   "source": [
    "import plotly.express as px"
   ]
  },
  {
   "cell_type": "code",
   "execution_count": null,
   "id": "28eee46c",
   "metadata": {},
   "outputs": [],
   "source": [
    "px.histogram(df_icml[context_labels], barmode=\"overlay\", title=\"Context\")"
   ]
  },
  {
   "cell_type": "code",
   "execution_count": null,
   "id": "826dfb4c",
   "metadata": {},
   "outputs": [],
   "source": [
    "px.histogram(df_icml[threat_labels], barmode=\"overlay\", title=\"Context\")"
   ]
  },
  {
   "cell_type": "markdown",
   "id": "0c92b324",
   "metadata": {},
   "source": [
    "Manual"
   ]
  },
  {
   "cell_type": "code",
   "execution_count": null,
   "id": "b6a49229",
   "metadata": {},
   "outputs": [],
   "source": [
    "df_manual_check = (\n",
    "    df_icml\n",
    "    .loc[~pd.isnull(df_icml.abstract), [\"id\", \"title\", \"abstract\"]]\n",
    "    .sample(50, random_state=10)\n",
    "    .reset_index(drop=True)\n",
    ")"
   ]
  },
  {
   "cell_type": "code",
   "execution_count": null,
   "id": "44fba9f2",
   "metadata": {},
   "outputs": [],
   "source": [
    "df_manual_check = pd.read_csv(\"manu.csv\", index_col=0)"
   ]
  },
  {
   "cell_type": "markdown",
   "id": "32a8e767",
   "metadata": {},
   "source": [
    "FSC + finetune galactica?"
   ]
  },
  {
   "cell_type": "code",
   "execution_count": null,
   "id": "4e72190b",
   "metadata": {},
   "outputs": [],
   "source": [
    "ix = 0"
   ]
  },
  {
   "cell_type": "markdown",
   "id": "55542dba",
   "metadata": {},
   "source": [
    "Interesting ones:\n",
    "\n",
    "- Pure Noise to the Rescue of Insufficient Data (1217)\n",
    "- Towards Theoretical Analysis of Transformation Complexity of ReLU DNNs (2457)\n",
    "- Evaluating the Adversarial Robustness of Adaptive Test-time Defenses (1456)\n",
    "- Carlini et al. (2019) (referenced by ^)\n",
    "- Probabilistically Robust Learning: Balancing Average- and Worst-case Performance (1877)\n",
    "- Modeling Adversarial Noise for Adversarial Training (1591)"
   ]
  },
  {
   "cell_type": "code",
   "execution_count": null,
   "id": "78d41cc4",
   "metadata": {},
   "outputs": [],
   "source": [
    "df_manual_check.loc[ix, \"abstract\"]"
   ]
  },
  {
   "cell_type": "code",
   "execution_count": null,
   "id": "d0947cd8",
   "metadata": {},
   "outputs": [],
   "source": [
    "\"Not relevant\""
   ]
  },
  {
   "cell_type": "code",
   "execution_count": null,
   "id": "ff8aed82",
   "metadata": {},
   "outputs": [],
   "source": [
    "print(\"Threats:\", threat_labels)\n",
    "df_manual_check.loc[ix, \"threat_manual\"] = \"Not relevant\"\n",
    "print(\"Contexts:\", context_labels)\n",
    "df_manual_check.loc[ix, \"context_manual\"] = \"Not relevant\""
   ]
  },
  {
   "cell_type": "code",
   "execution_count": null,
   "id": "30973d4f",
   "metadata": {},
   "outputs": [],
   "source": [
    "ix+=1"
   ]
  },
  {
   "cell_type": "code",
   "execution_count": null,
   "id": "15c8ba8a",
   "metadata": {},
   "outputs": [],
   "source": [
    "df_manual_check"
   ]
  },
  {
   "cell_type": "code",
   "execution_count": null,
   "id": "3c574c0c",
   "metadata": {},
   "outputs": [],
   "source": [
    "df_manual_check.to_csv(\"manu.csv\")"
   ]
  },
  {
   "cell_type": "markdown",
   "id": "6bdb75cd",
   "metadata": {},
   "source": [
    "Now for adversarial-only papers (non robustness)"
   ]
  },
  {
   "cell_type": "code",
   "execution_count": null,
   "id": "237d028d",
   "metadata": {},
   "outputs": [],
   "source": [
    "ix = 0"
   ]
  },
  {
   "cell_type": "markdown",
   "id": "8a9e1967",
   "metadata": {},
   "source": [
    "---"
   ]
  },
  {
   "cell_type": "code",
   "execution_count": null,
   "id": "fe58bbb0",
   "metadata": {},
   "outputs": [],
   "source": [
    "df_icml_adv_sample.loc[ix, \"abstract\"]"
   ]
  },
  {
   "cell_type": "code",
   "execution_count": null,
   "id": "3735127d",
   "metadata": {},
   "outputs": [],
   "source": [
    "print(\"Threats:\", threat_labels)\n",
    "df_icml_adv_sample.loc[ix, \"threat_manual\"] = \"Robustness\"\n",
    "print(\"Contexts:\", context_labels)\n",
    "df_icml_adv_sample.loc[ix, \"context_manual\"] = \"Robustness measures\""
   ]
  },
  {
   "cell_type": "code",
   "execution_count": null,
   "id": "66a9739c",
   "metadata": {},
   "outputs": [],
   "source": [
    "ix+=1"
   ]
  },
  {
   "cell_type": "code",
   "execution_count": null,
   "id": "c46fa7b0",
   "metadata": {},
   "outputs": [],
   "source": [
    "df_icml_adv_sample.to_csv(\"manu_adv_only.csv\")"
   ]
  },
  {
   "cell_type": "code",
   "execution_count": null,
   "id": "70761fc9",
   "metadata": {},
   "outputs": [],
   "source": [
    "pd.concat([df_icml_adv_sample, df_manual_check], axis=0)"
   ]
  },
  {
   "cell_type": "code",
   "execution_count": null,
   "id": "c35f7273",
   "metadata": {},
   "outputs": [],
   "source": [
    "df_icml_adv_sample"
   ]
  },
  {
   "cell_type": "markdown",
   "id": "2822358a",
   "metadata": {},
   "source": [
    "## Galactica"
   ]
  },
  {
   "cell_type": "markdown",
   "id": "1cf8bc22",
   "metadata": {},
   "source": [
    "Flush VRAM"
   ]
  },
  {
   "cell_type": "code",
   "execution_count": null,
   "id": "ed0c6c8f",
   "metadata": {},
   "outputs": [],
   "source": [
    "import gc\n",
    "\n",
    "try:\n",
    "    del model\n",
    "except NameError:\n",
    "    pass\n",
    "try:\n",
    "    del classifier\n",
    "except NameError: \n",
    "    pass\n",
    "with torch.no_grad():\n",
    "    torch.cuda.empty_cache()\n",
    "gc.collect()"
   ]
  },
  {
   "cell_type": "code",
   "execution_count": null,
   "id": "cded676a",
   "metadata": {},
   "outputs": [],
   "source": [
    "from transformers import pipeline\n",
    "\n",
    "base = \"1.3b\"\n",
    "standard = \"6.7b\"\n",
    "\n",
    "with torch.no_grad(): # clear GPU memory\n",
    "    model = pipeline(\"text-generation\", model=f\"facebook/galactica-{base}\", device=0)"
   ]
  },
  {
   "cell_type": "code",
   "execution_count": null,
   "id": "14f5def1",
   "metadata": {},
   "outputs": [],
   "source": [
    "# prompt = input_text + \"\\n\\nWhich techniques are described in the preceding passage? Answer:\\n\\n\"\n",
    "# prompt = input_text + \"\\n\\nThe techniques described in the preceding passage can be listed succinctly as: \"\n",
    "# prompt = input_text + \"\"\"\n",
    "# \\n\\nWhich of the following attack types is most relevant to the previous passage?\n",
    "# 'model extraction', 'data poisoning', 'data extraction', 'evasion attack', 'lack of robustness', or 'none'?\n",
    "# \"\"\"\n",
    "# prompt = input_text + \"\"\"\n",
    "# \\n\\nDoes the preceding passage refer to 'model robustness' in general, or to any of the following attacks in adversarial machine learning: \n",
    "# 'model extraction', 'data poisoning', 'data extraction', or 'evasion attack'? Answer:\\n\\n\n",
    "# \"\"\""
   ]
  },
  {
   "cell_type": "code",
   "execution_count": null,
   "id": "397c4e68",
   "metadata": {},
   "outputs": [],
   "source": [
    "ix = 0"
   ]
  },
  {
   "cell_type": "code",
   "execution_count": null,
   "id": "24738025",
   "metadata": {},
   "outputs": [],
   "source": [
    "input_text = df_test.loc[ix, \"abstract\"]\n",
    "\n",
    "prompt = input_text + (\n",
    "\"Does this abstract pertain to adversarial machine learning?\\n\\n\"\n",
    "\"If not, just answer 'No'. If so, answer with which of the following threats best is most relevant: \"\n",
    "\"'Model extraction attack', 'Poisoning attack', 'Data extraction attack', 'Lack of robustness' or 'Adversarial attack'. \"\n",
    "\"If you are not sure, answer with 'The answer is \\\"not sure\\\"'.\\n\\n\"\n",
    "\"The answer is \"\n",
    ")\n",
    "#prompt = input_text + \"\\n\\nIs this passage about specifically *adversarial* machine learning?\""
   ]
  },
  {
   "cell_type": "code",
   "execution_count": null,
   "id": "76859f4e",
   "metadata": {},
   "outputs": [],
   "source": [
    "input_text"
   ]
  },
  {
   "cell_type": "code",
   "execution_count": null,
   "id": "ea5aeac5",
   "metadata": {},
   "outputs": [],
   "source": [
    "prompt"
   ]
  },
  {
   "cell_type": "code",
   "execution_count": null,
   "id": "f95b56ae",
   "metadata": {},
   "outputs": [],
   "source": [
    "output = model(prompt, max_new_tokens=40)\n",
    "answer = output[0][\"generated_text\"][len(prompt):]\n",
    "print(answer)"
   ]
  },
  {
   "cell_type": "code",
   "execution_count": null,
   "id": "94a3e92c",
   "metadata": {},
   "outputs": [],
   "source": []
  }
 ],
 "metadata": {
  "kernelspec": {
   "display_name": "Python 3 (ipykernel)",
   "language": "python",
   "name": "python3"
  },
  "language_info": {
   "codemirror_mode": {
    "name": "ipython",
    "version": 3
   },
   "file_extension": ".py",
   "mimetype": "text/x-python",
   "name": "python",
   "nbconvert_exporter": "python",
   "pygments_lexer": "ipython3",
   "version": "3.9.5"
  }
 },
 "nbformat": 4,
 "nbformat_minor": 5
}
